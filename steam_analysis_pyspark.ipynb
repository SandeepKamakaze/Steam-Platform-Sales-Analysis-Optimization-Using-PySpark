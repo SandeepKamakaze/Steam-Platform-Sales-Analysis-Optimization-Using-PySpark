{
  "nbformat": 4,
  "nbformat_minor": 0,
  "metadata": {
    "colab": {
      "provenance": []
    },
    "kernelspec": {
      "name": "python3",
      "display_name": "Python 3"
    },
    "language_info": {
      "name": "python"
    }
  },
  "cells": [
    {
      "cell_type": "markdown",
      "source": [
        "# **PREDICTION OF VIDEO GAME'S COMMERCIAL SUCCESS USING PYSPARK**\n",
        "\n",
        "The video game industry is dynamic and competitive, with numerous factors influencing the success of a game in the market. This project aims to leverage PySpark, a powerful big data processing framework, to analyze various aspects of video game commercial success and sales strategy.\n",
        "\n",
        "\n",
        "#### **Team 07 :** *Nishok Ilangovan* | *Sandeepkumar Vijaya Kumar* | *Rohit Ananthan*"
      ],
      "metadata": {
        "id": "DtQssYJqpjGE"
      }
    },
    {
      "cell_type": "markdown",
      "source": [
        "# **Importance of PySpark in our project**\n",
        "\n",
        "Imagine PySpark as the ultimate power-up in our video game adventure! Just like a legendary item that boosts your character's abilities to epic proportions, PySpark turbocharges our project with unrivaled speed and efficiency. With PySpark's Python API as our trusty controller, we're not just players – we're masters of the game, wielding the power of distributed computing to conquer colossal datasets like heroic adventurers on a quest for treasure.\n",
        "\n",
        "\n",
        "As we journey through the digital realm of video game analytics, PySpark equips us with legendary weapons like machine learning algorithms and clustering techniques, enabling us to uncover hidden insights and unlock the secrets of commercial success."
      ],
      "metadata": {
        "id": "K5KkMKL5pthy"
      }
    },
    {
      "cell_type": "markdown",
      "source": [
        "## **Expected Outcome:**\n",
        "\n",
        "- Predictive models for commercial success prediction with high accuracy and interpretability.\n",
        "- Insights into frequent patterns in video game sales data to inform targeted marketing campaigns and bundle offerings.\n",
        "- Optimized inventory management strategies based on clusters of video games with similar characteristics.\n",
        "- Understanding of relationships between video games, facilitating personalized recommendations and cross-promotion strategies."
      ],
      "metadata": {
        "id": "2ZQATWXa4SXx"
      }
    },
    {
      "cell_type": "code",
      "execution_count": 1,
      "metadata": {
        "colab": {
          "base_uri": "https://localhost:8080/",
          "height": 0
        },
        "id": "sOehGa4dnR_J",
        "outputId": "db3d9efc-4245-42af-daaa-4a3806d0e94a"
      },
      "outputs": [
        {
          "output_type": "stream",
          "name": "stdout",
          "text": [
            "Requirement already satisfied: pyspark in /usr/local/lib/python3.10/dist-packages (3.5.1)\n",
            "Requirement already satisfied: py4j==0.10.9.7 in /usr/local/lib/python3.10/dist-packages (from pyspark) (0.10.9.7)\n"
          ]
        }
      ],
      "source": [
        "! pip install pyspark"
      ]
    },
    {
      "cell_type": "code",
      "source": [
        "from pyspark.sql import SparkSession\n",
        "session= SparkSession.builder.appName(\"videogames\").getOrCreate()"
      ],
      "metadata": {
        "id": "GCkRvQOtpzqm"
      },
      "execution_count": 2,
      "outputs": []
    },
    {
      "cell_type": "code",
      "source": [
        "from pyspark.sql.functions import *\n",
        "from pyspark.ml import Pipeline\n",
        "from pyspark.ml.feature import OneHotEncoder, StringIndexer, VectorAssembler, StandardScaler, MinMaxScaler\n",
        "from pyspark.ml.classification import RandomForestClassifier, LogisticRegression\n",
        "from pyspark.ml.evaluation import *\n",
        "\n",
        "import pandas as pd"
      ],
      "metadata": {
        "id": "ZgvHeONgtfz9"
      },
      "execution_count": 3,
      "outputs": []
    },
    {
      "cell_type": "markdown",
      "source": [
        "# **Dataset of Interest**\n",
        "\n",
        "## Steam Website Overview\n",
        "Steam is a digital distribution platform developed by Valve Corporation, primarily for purchasing and playing video games. Launched in 2003, it offers a vast library of games across various genres for Windows, macOS, and Linux platforms. In addition to games, Steam provides features such as game updates, community forums, social networking, and digital rights management.\n",
        "\n",
        "Steam emerges as a preferred platform for collecting game information due to several compelling reasons. Firstly, Steam stands as one of the largest and most popular digital distribution platforms for video games, boasting a vast and diverse library of titles spanning various genres and platforms. This extensive catalog provides researchers with access to a rich dataset encompassing a wide range of game characteristics, player engagement metrics, and success indicators.\n",
        "\n",
        "## Dataset Information\n",
        "The \"steam_data_set\" obtained from Steam via Kaggle is a dataset containing comprehensive information about games available on the Steam platform. It encompasses a wide range of attributes for each game, allowing for detailed analysis and exploration of various aspects such as game characteristics, player engagement, and success metrics.\n",
        "\n",
        "\n",
        "https://www.kaggle.com/datasets/nikdavis/steam-store-games\n",
        "\n",
        "\n",
        "## Columns Information\n",
        "\n",
        "- **appid** (integer): *Unique identifier for each game on Steam.*\n",
        "- **name** (string): *Title of the game.*\n",
        "- **release_date** (date): *Date when the game was released.*\n",
        "- **english** (boolean): *Indicates whether the game supports the English language.*\n",
        "- **developer** (string): *Company or individual responsible for developing the game.*\n",
        "- **publisher** (string): *Company responsible for publishing and distributing the game.*\n",
        "- **platforms** (string): *Platforms on which the game is available (e.g., Windows, macOS, Linux).*\n",
        "- **required_age** (integer): *Age rating or recommended age for playing the game.*\n",
        "- **categories** (string): *Categories or classifications of the game.*\n",
        "- **genres** (string): *Genres of the game (e.g., action, adventure, RPG).*\n",
        "- **steamspy_tags** (string): *Tags associated with the game on Steam Spy.*\n",
        "- **achievements** (integer): *Number of achievements available in the game.*\n",
        "- **positive_ratings** (integer): *Number of positive ratings/reviews received by the game.*\n",
        "- **negative_ratings** (integer): *Number of negative ratings/reviews received by the game.*\n",
        "- **average_playtime** (integer): *Average playtime of the game in minutes.*\n",
        "- **median_playtime** (integer): *Median playtime of the game in minutes.*\n",
        "- **owners** (string): *Range of estimated owners of the game.*\n",
        "- **price** (float): *Price of the game in USD.*\n",
        "- **success** (boolean): *Indicates whether the game can be considered successful.*\n",
        "\n",
        "\n",
        "These columns provide detailed insights into various aspects of each game, including its characteristics, player feedback, playtime statistics, ownership, pricing, and success metrics.\n"
      ],
      "metadata": {
        "id": "Ujhk-g7W5pCo"
      }
    },
    {
      "cell_type": "code",
      "source": [
        "video_games_data = session.read.csv('Games_Dataset_Final.csv', header=True, inferSchema=True)"
      ],
      "metadata": {
        "id": "thv_bvHlqKx7"
      },
      "execution_count": 4,
      "outputs": []
    },
    {
      "cell_type": "code",
      "source": [
        "video_games_data.show(5)\n",
        "print(\"Number of observations:\",video_games_data.count())\n",
        "print(\"Information of columns:\\n\",video_games_data.columns)"
      ],
      "metadata": {
        "colab": {
          "base_uri": "https://localhost:8080/",
          "height": 0
        },
        "id": "x3rZQbL_qcAK",
        "outputId": "36525937-860b-489f-9dbf-bfad394d5388"
      },
      "execution_count": 5,
      "outputs": [
        {
          "output_type": "stream",
          "name": "stdout",
          "text": [
            "+-----+--------------------+------------+-------+----------------+---------+-----------------+------------+--------------------+------+--------------------+------------+----------------+----------------+----------------+---------------+-----------------+-----+-------+\n",
            "|appid|                name|release_date|english|       developer|publisher|        platforms|required_age|          categories|genres|       steamspy_tags|achievements|positive_ratings|negative_ratings|average_playtime|median_playtime|           owners|price|success|\n",
            "+-----+--------------------+------------+-------+----------------+---------+-----------------+------------+--------------------+------+--------------------+------------+----------------+----------------+----------------+---------------+-----------------+-----+-------+\n",
            "|   10|      Counter-Strike|  01-11-2000|      1|           Valve|    Valve|windows;mac;linux|           0|Multi-player;Onli...|Action|Action;FPS;Multip...|           0|          124534|            3339|           17612|            317|10000000-20000000| 7.19|    Yes|\n",
            "|   20|Team Fortress Cla...|  01-04-1999|      1|           Valve|    Valve|windows;mac;linux|           0|Multi-player;Onli...|Action|Action;FPS;Multip...|           0|            3318|             633|             277|             62| 5000000-10000000| 3.99|    Yes|\n",
            "|   30|       Day of Defeat|  01-05-2003|      1|           Valve|    Valve|windows;mac;linux|           0|Multi-player;Valv...|Action|FPS;World War II;...|           0|            3416|             398|             187|             34| 5000000-10000000| 3.99|    Yes|\n",
            "|   40|  Deathmatch Classic|  01-06-2001|      1|           Valve|    Valve|windows;mac;linux|           0|Multi-player;Onli...|Action|Action;FPS;Multip...|           0|            1273|             267|             258|            184| 5000000-10000000| 3.99|    Yes|\n",
            "|   50|Half-Life: Opposi...|  01-11-1999|      1|Gearbox Software|    Valve|windows;mac;linux|           0|Single-player;Mul...|Action|   FPS;Action;Sci-fi|           0|            5250|             288|             624|            415| 5000000-10000000| 3.99|    Yes|\n",
            "+-----+--------------------+------------+-------+----------------+---------+-----------------+------------+--------------------+------+--------------------+------------+----------------+----------------+----------------+---------------+-----------------+-----+-------+\n",
            "only showing top 5 rows\n",
            "\n",
            "Number of observations: 27075\n",
            "Information of columns:\n",
            " ['appid', 'name', 'release_date', 'english', 'developer', 'publisher', 'platforms', 'required_age', 'categories', 'genres', 'steamspy_tags', 'achievements', 'positive_ratings', 'negative_ratings', 'average_playtime', 'median_playtime', 'owners', 'price', 'success']\n"
          ]
        }
      ]
    },
    {
      "cell_type": "markdown",
      "source": [
        "## **Exploratory Data Analysis**\n",
        "\n",
        "In initial exploratory data analysis (EDA) of the game dataset, summary statistics provide valuable insights into the distribution and characteristics of each column, helping to identify patterns, outliers, and potential challenges that may impact model creation."
      ],
      "metadata": {
        "id": "MBzz38EA-uJy"
      }
    },
    {
      "cell_type": "code",
      "source": [
        "print(\"Description of columns:\\n\",video_games_data.describe().show(3))"
      ],
      "metadata": {
        "colab": {
          "base_uri": "https://localhost:8080/",
          "height": 0
        },
        "id": "UEJSmIDurGdk",
        "outputId": "7f8d2d84-03d2-4fbd-dc6f-d2555a4c9536"
      },
      "execution_count": 6,
      "outputs": [
        {
          "output_type": "stream",
          "name": "stdout",
          "text": [
            "+-------+------------------+--------+------------+-------------------+-----------------+-----------------+---------+------------------+----------+------+-------------+------------------+------------------+------------------+------------------+------------------+-----------------+-----------------+-------+\n",
            "|summary|             appid|    name|release_date|            english|        developer|        publisher|platforms|      required_age|categories|genres|steamspy_tags|      achievements|  positive_ratings|  negative_ratings|  average_playtime|   median_playtime|           owners|            price|success|\n",
            "+-------+------------------+--------+------------+-------------------+-----------------+-----------------+---------+------------------+----------+------+-------------+------------------+------------------+------------------+------------------+------------------+-----------------+-----------------+-------+\n",
            "|  count|             27075|   27075|       27075|              27075|            27075|            27075|    27075|             27075|     27075| 27075|        27075|             27075|             27075|             27075|             27075|             27075|            27075|            27075|  27075|\n",
            "|   mean| 596203.5086611265|Infinity|        NULL| 0.9811258033537712|        84536.875|           4002.0|     NULL|0.3549292653196912|       0.0|   0.0|         NULL| 45.25050788608577|1000.5392258255152|211.01669436749768| 149.8625300092336|146.06626038781164|              4.0|6.078307601389179|   3.99|\n",
            "| stddev|250894.16724606094|     NaN|        NULL|0.13608322948942794|235353.7731673852|161.0807251039056|     NULL|2.4061313884181823|      NULL|  NULL|         NULL|352.68320058791033|18989.074734728052| 4284.938696185462|1827.0582385517328|2353.8800823511574|5.656854249492381|7.875064196373783|   NULL|\n",
            "+-------+------------------+--------+------------+-------------------+-----------------+-----------------+---------+------------------+----------+------+-------------+------------------+------------------+------------------+------------------+------------------+-----------------+-----------------+-------+\n",
            "only showing top 3 rows\n",
            "\n",
            "Description of columns:\n",
            " None\n"
          ]
        }
      ]
    },
    {
      "cell_type": "markdown",
      "source": [
        "# **Feature Engineering**\n",
        "\n",
        "In this project, feature engineering is crucial because it allows us to tailor the model to the specific nuances of our dataset. By carefully crafting features, we can highlight relevant information and reduce noise, ultimately improving the model's ability to extract meaningful patterns and make accurate predictions. Additionally, feature engineering enables us to incorporate domain knowledge and insights, empowering the model to better capture the intricacies of the problem we're solving. Some of the feature engineering we plan to incorporate are\n",
        "\n",
        "- Data Cleaning\n",
        "- String Indexing\n",
        "- One Hot encoding\n",
        "- Min Max Scaling\n",
        "- Vector Assembler\n"
      ],
      "metadata": {
        "id": "LIxEaQdisO9-"
      }
    },
    {
      "cell_type": "markdown",
      "source": [
        "## Data Cleaning\n",
        "\n",
        "In our dataset, we aim to remove the null values that can impair the model's opertaion or performance. This is approached by searchung for null values across all columns and removing the na observations"
      ],
      "metadata": {
        "id": "GuMSDHrkuOKI"
      }
    },
    {
      "cell_type": "code",
      "source": [
        "na_counts = video_games_data.select([col(c).isNull().cast(\"int\").alias(c) for c in video_games_data.columns]).agg(*[sum(col(c)).alias(c) for c in video_games_data.columns])\n",
        "na_counts.show()"
      ],
      "metadata": {
        "colab": {
          "base_uri": "https://localhost:8080/",
          "height": 0
        },
        "id": "N0pvnVk5rshG",
        "outputId": "55d61407-a05e-4528-f4bd-2a028966666f"
      },
      "execution_count": 7,
      "outputs": [
        {
          "output_type": "stream",
          "name": "stdout",
          "text": [
            "+-----+----+------------+-------+---------+---------+---------+------------+----------+------+-------------+------------+----------------+----------------+----------------+---------------+------+-----+-------+\n",
            "|appid|name|release_date|english|developer|publisher|platforms|required_age|categories|genres|steamspy_tags|achievements|positive_ratings|negative_ratings|average_playtime|median_playtime|owners|price|success|\n",
            "+-----+----+------------+-------+---------+---------+---------+------------+----------+------+-------------+------------+----------------+----------------+----------------+---------------+------+-----+-------+\n",
            "|    0|   0|           0|      0|        0|        0|        0|           0|         0|     0|            0|           0|               0|               0|               0|              0|     0|    0|      0|\n",
            "+-----+----+------------+-------+---------+---------+---------+------------+----------+------+-------------+------------+----------------+----------------+----------------+---------------+------+-----+-------+\n",
            "\n"
          ]
        }
      ]
    },
    {
      "cell_type": "markdown",
      "source": [
        "### Average Number of users (owner)\n",
        "\n",
        "The dataset had ranges of values of number of users playingthe game. We decided to take the average out of them to come up with mean number of active users and storing it in a column."
      ],
      "metadata": {
        "id": "BJqDpagbNW89"
      }
    },
    {
      "cell_type": "code",
      "source": [
        "video_games_data = video_games_data.withColumn(\"owners_start\", split(col(\"owners\"), \"-\").getItem(0).cast(\"double\"))\n",
        "video_games_data = video_games_data.withColumn(\"owners_end\", split(col(\"owners\"), \"-\").getItem(1).cast(\"double\"))\n",
        "\n",
        "# Calculate the average of the range\n",
        "video_games_data = video_games_data.withColumn(\"average_owners\", (col(\"owners_start\") + col(\"owners_end\")) / 2)\n",
        "\n",
        "# Replace the original values with the average\n",
        "video_games_data = video_games_data.withColumn(\"owners\", expr(\"cast(average_owners as string)\"))\n",
        "\n",
        "# Drop intermediate columns if needed\n",
        "video_games_data = video_games_data.drop(\"owners_start\", \"owners_end\")"
      ],
      "metadata": {
        "id": "Blh10CjFNWjV"
      },
      "execution_count": 8,
      "outputs": []
    },
    {
      "cell_type": "markdown",
      "source": [
        "### Release Date\n",
        "\n",
        "The release date of each games was processed to obtain the decade of the games, which had an impact of users playing a game. We beleive that theearlier decades, people were more interested in buying games, but now since there are lot of entertainment options , this decade may be facing a dull performance in games unless it is a big title."
      ],
      "metadata": {
        "id": "d6lZvKmR_ttY"
      }
    },
    {
      "cell_type": "code",
      "source": [
        "video_games_data = video_games_data.withColumn(\"release_date\", to_date(\"release_date\", \"dd-MM-yyyy\"))\n",
        "\n",
        "# Extract decade from release_date\n",
        "video_games_data = video_games_data.withColumn(\"decade\", floor(year(\"release_date\") / 10) * 10)\n",
        "video_games_data.show(2)"
      ],
      "metadata": {
        "colab": {
          "base_uri": "https://localhost:8080/",
          "height": 0
        },
        "id": "3x3fVLqKFAbH",
        "outputId": "ffb92f15-412f-4473-c118-a11132a8e7f9"
      },
      "execution_count": 9,
      "outputs": [
        {
          "output_type": "stream",
          "name": "stdout",
          "text": [
            "+-----+--------------------+------------+-------+---------+---------+-----------------+------------+--------------------+------+--------------------+------------+----------------+----------------+----------------+---------------+---------+-----+-------+--------------+------+\n",
            "|appid|                name|release_date|english|developer|publisher|        platforms|required_age|          categories|genres|       steamspy_tags|achievements|positive_ratings|negative_ratings|average_playtime|median_playtime|   owners|price|success|average_owners|decade|\n",
            "+-----+--------------------+------------+-------+---------+---------+-----------------+------------+--------------------+------+--------------------+------------+----------------+----------------+----------------+---------------+---------+-----+-------+--------------+------+\n",
            "|   10|      Counter-Strike|  2000-11-01|      1|    Valve|    Valve|windows;mac;linux|           0|Multi-player;Onli...|Action|Action;FPS;Multip...|           0|          124534|            3339|           17612|            317|    1.5E7| 7.19|    Yes|         1.5E7|  2000|\n",
            "|   20|Team Fortress Cla...|  1999-04-01|      1|    Valve|    Valve|windows;mac;linux|           0|Multi-player;Onli...|Action|Action;FPS;Multip...|           0|            3318|             633|             277|             62|7500000.0| 3.99|    Yes|     7500000.0|  1990|\n",
            "+-----+--------------------+------------+-------+---------+---------+-----------------+------------+--------------------+------+--------------------+------------+----------------+----------------+----------------+---------------+---------+-----+-------+--------------+------+\n",
            "only showing top 2 rows\n",
            "\n"
          ]
        }
      ]
    },
    {
      "cell_type": "markdown",
      "source": [
        "### Casting Datatypes of Features\n",
        "\n",
        "Converting or Casting the datatypes of certain features to make it compatible with other features in the model."
      ],
      "metadata": {
        "id": "WF6raDo2_8AX"
      }
    },
    {
      "cell_type": "code",
      "source": [
        "video_games_data = video_games_data.selectExpr(\"*\", \"CAST(positive_ratings AS INT) AS positive_ratings_int\", \"CAST(achievements AS INT) AS achievments_int\", \"CAST(price AS INT) AS price_int\", \"CAST(english AS INT) AS english_int\")\n",
        "video_games_data = video_games_data.dropna()"
      ],
      "metadata": {
        "id": "H2KYwR8XVr-j"
      },
      "execution_count": 10,
      "outputs": []
    },
    {
      "cell_type": "markdown",
      "source": [
        "### Dummy Variables for One Hot Encoding\n",
        "\n",
        "In the context of feature engineering for a project involving game success prediction, the challenge arises when dealing with categorical data stored as delimited strings in a single column, such as \"action;adventure;music.\" While traditional methods like one-hot encoding are readily available in tools like R, PySpark lacks a built-in equivalent, necessitating a custom solution.\n",
        "\n",
        "To address this, a custom method is created to transform the categorical data into dummy variables suitable for machine learning models. This method parses the delimited strings, splitting them into individual categories and creating binary columns for each unique category. For instance, the original column \"genres\" with values \"action;adventure;music\" would be transformed into separate columns for \"action,\" \"adventure,\" and \"music,\" with binary indicators representing the presence or absence of each genre for each observation.\n",
        "\n",
        "We will proceed this for teh following variables\n",
        "\n",
        "- Platforms\n",
        "- Categories\n",
        "- Genres"
      ],
      "metadata": {
        "id": "n2JvsTfv_zFZ"
      }
    },
    {
      "cell_type": "code",
      "source": [
        "split_df = video_games_data.withColumn(\"platforms\", split(video_games_data[\"platforms\"], \";\"))\n",
        "\n",
        "# Get unique platforms\n",
        "unique_platforms = set()\n",
        "for row in split_df.collect():\n",
        "    unique_platforms.update(row[\"platforms\"])\n",
        "\n",
        "# Iterate over each platform and create columns\n",
        "for platform in unique_platforms:\n",
        "    # Create column name\n",
        "    col_name = \"platform_\" + platform\n",
        "\n",
        "    # Check if platform exists in the list for each row\n",
        "    video_games_data = video_games_data.withColumn(col_name,\n",
        "                       when(video_games_data[\"platforms\"].contains(platform), 1).otherwise(0))\n",
        "\n",
        "# Show the result\n",
        "video_games_data = video_games_data.drop('platform_ \"\"Adiart\"\"\"','platform_Nostatic Software, LLC')\n",
        "video_games_data.show(3)"
      ],
      "metadata": {
        "colab": {
          "base_uri": "https://localhost:8080/",
          "height": 0
        },
        "id": "1UGzApeKCRX4",
        "outputId": "fdae6d03-75ae-4890-ce4d-4a036b6ab913"
      },
      "execution_count": 11,
      "outputs": [
        {
          "output_type": "stream",
          "name": "stdout",
          "text": [
            "+-----+--------------------+------------+-------+---------+---------+-----------------+------------+--------------------+------+--------------------+------------+----------------+----------------+----------------+---------------+---------+-----+-------+--------------+------+--------------------+---------------+---------+-----------+----------------+--------------+------------+\n",
            "|appid|                name|release_date|english|developer|publisher|        platforms|required_age|          categories|genres|       steamspy_tags|achievements|positive_ratings|negative_ratings|average_playtime|median_playtime|   owners|price|success|average_owners|decade|positive_ratings_int|achievments_int|price_int|english_int|platform_windows|platform_linux|platform_mac|\n",
            "+-----+--------------------+------------+-------+---------+---------+-----------------+------------+--------------------+------+--------------------+------------+----------------+----------------+----------------+---------------+---------+-----+-------+--------------+------+--------------------+---------------+---------+-----------+----------------+--------------+------------+\n",
            "|   10|      Counter-Strike|  2000-11-01|      1|    Valve|    Valve|windows;mac;linux|           0|Multi-player;Onli...|Action|Action;FPS;Multip...|           0|          124534|            3339|           17612|            317|    1.5E7| 7.19|    Yes|         1.5E7|  2000|              124534|              0|        7|          1|               1|             1|           1|\n",
            "|   20|Team Fortress Cla...|  1999-04-01|      1|    Valve|    Valve|windows;mac;linux|           0|Multi-player;Onli...|Action|Action;FPS;Multip...|           0|            3318|             633|             277|             62|7500000.0| 3.99|    Yes|     7500000.0|  1990|                3318|              0|        3|          1|               1|             1|           1|\n",
            "|   30|       Day of Defeat|  2003-05-01|      1|    Valve|    Valve|windows;mac;linux|           0|Multi-player;Valv...|Action|FPS;World War II;...|           0|            3416|             398|             187|             34|7500000.0| 3.99|    Yes|     7500000.0|  2000|                3416|              0|        3|          1|               1|             1|           1|\n",
            "+-----+--------------------+------------+-------+---------+---------+-----------------+------------+--------------------+------+--------------------+------------+----------------+----------------+----------------+---------------+---------+-----+-------+--------------+------+--------------------+---------------+---------+-----------+----------------+--------------+------------+\n",
            "only showing top 3 rows\n",
            "\n"
          ]
        }
      ]
    },
    {
      "cell_type": "code",
      "source": [
        "split_df = video_games_data.withColumn(\"genres\", split(video_games_data[\"genres\"], \";\"))\n",
        "\n",
        "# Get unique platforms\n",
        "unique_genres = set()\n",
        "for row in split_df.collect():\n",
        "    unique_genres.update(row[\"genres\"])\n",
        "\n",
        "# Iterate over each platform and create columns\n",
        "for genre in unique_genres:\n",
        "    # Create column name\n",
        "    col_name = \"genre_\" + genre\n",
        "\n",
        "    # Check if platform exists in the list for each row\n",
        "    video_games_data = video_games_data.withColumn(col_name,\n",
        "                       when(video_games_data[\"genres\"].contains(genre), 1).otherwise(0))\n",
        "\n",
        "# Show the result\n",
        "video_games_data.show(3)"
      ],
      "metadata": {
        "colab": {
          "base_uri": "https://localhost:8080/",
          "height": 0
        },
        "id": "mDNTuE12DGt4",
        "outputId": "df967ad9-5f12-4b0e-c314-2f7474c0d061"
      },
      "execution_count": 12,
      "outputs": [
        {
          "output_type": "stream",
          "name": "stdout",
          "text": [
            "+-----+--------------------+------------+-------+---------+---------+-----------------+------------+--------------------+------+--------------------+------------+----------------+----------------+----------------+---------------+---------+-----+-------+--------------+------+--------------------+---------------+---------+-----------+----------------+--------------+------------+---------------+---------------------------+------------+----------------+----------------------+----------+----------------------+-------------+------------------+------------+---------------+--------------------+------------+--------------+------------+-----------------+---------+-------------------+---------------+------------------+-----------------------+-----------+--------------+--------------------------+----------------------+---------------------------+--------------------+----------------+------------+\n",
            "|appid|                name|release_date|english|developer|publisher|        platforms|required_age|          categories|genres|       steamspy_tags|achievements|positive_ratings|negative_ratings|average_playtime|median_playtime|   owners|price|success|average_owners|decade|positive_ratings_int|achievments_int|price_int|english_int|platform_windows|platform_linux|platform_mac|genre_Education|genre_Design & Illustration|genre_Nudity|genre_Accounting|genre_Game Development|genre_Gore|genre_Video Production|genre_Violent|genre_Free to Play|genre_Racing|genre_Adventure|genre_Web Publishing|genre_Casual|genre_Tutorial|genre_Sports|genre_Documentary|genre_RPG|genre_Photo Editing|genre_Utilities|genre_Early Access|genre_Software Training|genre_Indie|genre_Strategy|genre_Animation & Modeling|genre_Audio Production|genre_Massively Multiplayer|genre_Sexual Content|genre_Simulation|genre_Action|\n",
            "+-----+--------------------+------------+-------+---------+---------+-----------------+------------+--------------------+------+--------------------+------------+----------------+----------------+----------------+---------------+---------+-----+-------+--------------+------+--------------------+---------------+---------+-----------+----------------+--------------+------------+---------------+---------------------------+------------+----------------+----------------------+----------+----------------------+-------------+------------------+------------+---------------+--------------------+------------+--------------+------------+-----------------+---------+-------------------+---------------+------------------+-----------------------+-----------+--------------+--------------------------+----------------------+---------------------------+--------------------+----------------+------------+\n",
            "|   10|      Counter-Strike|  2000-11-01|      1|    Valve|    Valve|windows;mac;linux|           0|Multi-player;Onli...|Action|Action;FPS;Multip...|           0|          124534|            3339|           17612|            317|    1.5E7| 7.19|    Yes|         1.5E7|  2000|              124534|              0|        7|          1|               1|             1|           1|              0|                          0|           0|               0|                     0|         0|                     0|            0|                 0|           0|              0|                   0|           0|             0|           0|                0|        0|                  0|              0|                 0|                      0|          0|             0|                         0|                     0|                          0|                   0|               0|           1|\n",
            "|   20|Team Fortress Cla...|  1999-04-01|      1|    Valve|    Valve|windows;mac;linux|           0|Multi-player;Onli...|Action|Action;FPS;Multip...|           0|            3318|             633|             277|             62|7500000.0| 3.99|    Yes|     7500000.0|  1990|                3318|              0|        3|          1|               1|             1|           1|              0|                          0|           0|               0|                     0|         0|                     0|            0|                 0|           0|              0|                   0|           0|             0|           0|                0|        0|                  0|              0|                 0|                      0|          0|             0|                         0|                     0|                          0|                   0|               0|           1|\n",
            "|   30|       Day of Defeat|  2003-05-01|      1|    Valve|    Valve|windows;mac;linux|           0|Multi-player;Valv...|Action|FPS;World War II;...|           0|            3416|             398|             187|             34|7500000.0| 3.99|    Yes|     7500000.0|  2000|                3416|              0|        3|          1|               1|             1|           1|              0|                          0|           0|               0|                     0|         0|                     0|            0|                 0|           0|              0|                   0|           0|             0|           0|                0|        0|                  0|              0|                 0|                      0|          0|             0|                         0|                     0|                          0|                   0|               0|           1|\n",
            "+-----+--------------------+------------+-------+---------+---------+-----------------+------------+--------------------+------+--------------------+------------+----------------+----------------+----------------+---------------+---------+-----+-------+--------------+------+--------------------+---------------+---------+-----------+----------------+--------------+------------+---------------+---------------------------+------------+----------------+----------------------+----------+----------------------+-------------+------------------+------------+---------------+--------------------+------------+--------------+------------+-----------------+---------+-------------------+---------------+------------------+-----------------------+-----------+--------------+--------------------------+----------------------+---------------------------+--------------------+----------------+------------+\n",
            "only showing top 3 rows\n",
            "\n"
          ]
        }
      ]
    },
    {
      "cell_type": "code",
      "source": [
        "split_df = video_games_data.withColumn(\"categories\", split(video_games_data[\"categories\"], \";\"))\n",
        "\n",
        "# Get unique categories\n",
        "unique_categories = set()\n",
        "for row in split_df.collect():\n",
        "    unique_categories.update(row[\"categories\"])\n",
        "\n",
        "for category in unique_categories:\n",
        "    # Create column name\n",
        "    col_name = \"category_\" + category\n",
        "\n",
        "    # Check if categories exists in the list for each row\n",
        "    video_games_data = video_games_data.withColumn(col_name,\n",
        "                       when(video_games_data[\"categories\"].contains(category), 1).otherwise(0))\n",
        "# Show the result\n",
        "video_games_data.show(2)"
      ],
      "metadata": {
        "colab": {
          "base_uri": "https://localhost:8080/",
          "height": 0
        },
        "id": "VCyuGNTzENBS",
        "outputId": "992e1273-2af7-42f7-e7d5-61959f3582ab"
      },
      "execution_count": 13,
      "outputs": [
        {
          "output_type": "stream",
          "name": "stdout",
          "text": [
            "+-----+--------------------+------------+-------+---------+---------+-----------------+------------+--------------------+------+--------------------+------------+----------------+----------------+----------------+---------------+---------+-----+-------+--------------+------+--------------------+---------------+---------+-----------+----------------+--------------+------------+---------------+---------------------------+------------+----------------+----------------------+----------+----------------------+-------------+------------------+------------+---------------+--------------------+------------+--------------+------------+-----------------+---------+-------------------+---------------+------------------+-----------------------+-----------+--------------+--------------------------+----------------------+---------------------------+--------------------+----------------+------------+-----------------------------+----------------------+---------------------+---------------------------------+---------------------------+------------+-------------+-----------------------------------+-------------------------+---------------------------+---------------------------+--------------------------------+--------------+--------------+----------------------------+---------------------+---------------------------+-----------------------+----------------------------+------------------------------+--------------------+----------------------------+---------------------------------+-----------------------------------+-------------------+----------------------------+---------------------------+--------------------+-----------------------------+\n",
            "|appid|                name|release_date|english|developer|publisher|        platforms|required_age|          categories|genres|       steamspy_tags|achievements|positive_ratings|negative_ratings|average_playtime|median_playtime|   owners|price|success|average_owners|decade|positive_ratings_int|achievments_int|price_int|english_int|platform_windows|platform_linux|platform_mac|genre_Education|genre_Design & Illustration|genre_Nudity|genre_Accounting|genre_Game Development|genre_Gore|genre_Video Production|genre_Violent|genre_Free to Play|genre_Racing|genre_Adventure|genre_Web Publishing|genre_Casual|genre_Tutorial|genre_Sports|genre_Documentary|genre_RPG|genre_Photo Editing|genre_Utilities|genre_Early Access|genre_Software Training|genre_Indie|genre_Strategy|genre_Animation & Modeling|genre_Audio Production|genre_Massively Multiplayer|genre_Sexual Content|genre_Simulation|genre_Action|category_SteamVR Collectibles|category_Single-player|category_Online Co-op|category_Steam Turn Notifications|category_Steam Leaderboards|category_MMO|category_Mods|category_Partial Controller Support|category_In-App Purchases|category_Local Multi-Player|category_Steam Achievements|category_Full controller support|category_Stats|category_Co-op|category_Online Multi-Player|category_Multi-player|category_Captions available|category_Steam Workshop|category_Steam Trading Cards|category_Includes level editor|category_Local Co-op|category_Includes Source SDK|category_Valve Anti-Cheat enabled|category_Cross-Platform Multiplayer|category_VR Support|category_Shared/Split Screen|category_Mods (require HL2)|category_Steam Cloud|category_Commentary available|\n",
            "+-----+--------------------+------------+-------+---------+---------+-----------------+------------+--------------------+------+--------------------+------------+----------------+----------------+----------------+---------------+---------+-----+-------+--------------+------+--------------------+---------------+---------+-----------+----------------+--------------+------------+---------------+---------------------------+------------+----------------+----------------------+----------+----------------------+-------------+------------------+------------+---------------+--------------------+------------+--------------+------------+-----------------+---------+-------------------+---------------+------------------+-----------------------+-----------+--------------+--------------------------+----------------------+---------------------------+--------------------+----------------+------------+-----------------------------+----------------------+---------------------+---------------------------------+---------------------------+------------+-------------+-----------------------------------+-------------------------+---------------------------+---------------------------+--------------------------------+--------------+--------------+----------------------------+---------------------+---------------------------+-----------------------+----------------------------+------------------------------+--------------------+----------------------------+---------------------------------+-----------------------------------+-------------------+----------------------------+---------------------------+--------------------+-----------------------------+\n",
            "|   10|      Counter-Strike|  2000-11-01|      1|    Valve|    Valve|windows;mac;linux|           0|Multi-player;Onli...|Action|Action;FPS;Multip...|           0|          124534|            3339|           17612|            317|    1.5E7| 7.19|    Yes|         1.5E7|  2000|              124534|              0|        7|          1|               1|             1|           1|              0|                          0|           0|               0|                     0|         0|                     0|            0|                 0|           0|              0|                   0|           0|             0|           0|                0|        0|                  0|              0|                 0|                      0|          0|             0|                         0|                     0|                          0|                   0|               0|           1|                            0|                     0|                    0|                                0|                          0|           0|            0|                                  0|                        0|                          1|                          0|                               0|             0|             0|                           1|                    1|                          0|                      0|                           0|                             0|                   0|                           0|                                1|                                  0|                  0|                           0|                          0|                   0|                            0|\n",
            "|   20|Team Fortress Cla...|  1999-04-01|      1|    Valve|    Valve|windows;mac;linux|           0|Multi-player;Onli...|Action|Action;FPS;Multip...|           0|            3318|             633|             277|             62|7500000.0| 3.99|    Yes|     7500000.0|  1990|                3318|              0|        3|          1|               1|             1|           1|              0|                          0|           0|               0|                     0|         0|                     0|            0|                 0|           0|              0|                   0|           0|             0|           0|                0|        0|                  0|              0|                 0|                      0|          0|             0|                         0|                     0|                          0|                   0|               0|           1|                            0|                     0|                    0|                                0|                          0|           0|            0|                                  0|                        0|                          1|                          0|                               0|             0|             0|                           1|                    1|                          0|                      0|                           0|                             0|                   0|                           0|                                1|                                  0|                  0|                           0|                          0|                   0|                            0|\n",
            "+-----+--------------------+------------+-------+---------+---------+-----------------+------------+--------------------+------+--------------------+------------+----------------+----------------+----------------+---------------+---------+-----+-------+--------------+------+--------------------+---------------+---------+-----------+----------------+--------------+------------+---------------+---------------------------+------------+----------------+----------------------+----------+----------------------+-------------+------------------+------------+---------------+--------------------+------------+--------------+------------+-----------------+---------+-------------------+---------------+------------------+-----------------------+-----------+--------------+--------------------------+----------------------+---------------------------+--------------------+----------------+------------+-----------------------------+----------------------+---------------------+---------------------------------+---------------------------+------------+-------------+-----------------------------------+-------------------------+---------------------------+---------------------------+--------------------------------+--------------+--------------+----------------------------+---------------------+---------------------------+-----------------------+----------------------------+------------------------------+--------------------+----------------------------+---------------------------------+-----------------------------------+-------------------+----------------------------+---------------------------+--------------------+-----------------------------+\n",
            "only showing top 2 rows\n",
            "\n"
          ]
        }
      ]
    },
    {
      "cell_type": "markdown",
      "source": [
        " # String Indexing\n",
        "\n",
        "In our project, string indexing is being utilized as a crucial component of feature engineering to bolster the predictive capabilities of our machine learning model. This involves converting categorical variables like 'success,' 'decade,' 'developer,' and 'publisher' into numerical representations, enabling more effective analysis and pattern recognition. String indexing standardizes the encoding of categorical variables, ensuring consistency and compatibility across the machine learning pipeline. Additionally, by employing 'handleInvalid=\"keep,\"' we ensure the model can handle unforeseen or irregular categories during deployment, preserving dataset integrity. Overall, the incorporation of string indexing aligns with our goal of developing a robust and accurate predictive model for game success prediction.\n"
      ],
      "metadata": {
        "id": "goTP4zCsLnkV"
      }
    },
    {
      "cell_type": "code",
      "source": [
        "str_idx=StringIndexer(inputCols=['success','decade','developer','publisher'], outputCols=['Newsuccess','Newdecade','Newdeveloper','Newpublisher'], stringOrderType='alphabetAsc', handleInvalid=\"keep\")"
      ],
      "metadata": {
        "id": "x8hUm16ILu5W"
      },
      "execution_count": 14,
      "outputs": []
    },
    {
      "cell_type": "markdown",
      "source": [
        "# One Hot Encoding\n",
        "\n",
        "In our project, we're implementing one-hot encoding as part of feature engineering to enhance the effectiveness of our machine learning model. This process involves converting categorical variables represented by numerical indices, such as 'Newdecade,' 'Newdeveloper,' and 'Newpublisher,' into binary vectors, creating new columns like 'Finaldecade,' 'Finaldeveloper,' and 'Finalpublisher.'\n",
        "\n",
        "By utilizing the OneHotEncoder, we standardize this transformation, ensuring consistency and compatibility within our machine learning pipeline. This approach enables the model to effectively interpret categorical variables and uncover valuable insights from the data.\n",
        "\n",
        "Ultimately, the integration of one-hot encoding aligns with our overarching objective of developing a robust and precise predictive model for game success prediction."
      ],
      "metadata": {
        "id": "U0IrgAcVMdcs"
      }
    },
    {
      "cell_type": "code",
      "source": [
        "onehot=OneHotEncoder(inputCols=['Newdecade','Newdeveloper','Newpublisher'], outputCols=['Finaldecade','Finaldeveloper','finalpublisher'])"
      ],
      "metadata": {
        "id": "cXKsDTeDMkzr"
      },
      "execution_count": 15,
      "outputs": []
    },
    {
      "cell_type": "markdown",
      "source": [
        "# Vector Assembler\n",
        "\n",
        " we're utilizing the VectorAssembler as a crucial step in feature engineering to consolidate multiple input columns into a single feature vector. This involves combining numerical features such as \"achievements_int,\" \"price_int,\" \"positive_ratings_int,\" \"negative_ratings,\" \"average_playtime,\" \"median_playtime,\" and \"average_owners\" into a unified vector representation named \"ach_price_ratings_playtime_owners.\"\n",
        "\n",
        "By employing the VectorAssembler, we streamline this process, creating a cohesive feature vector that encapsulates the relevant information from each input column. This unified representation facilitates efficient data processing and analysis within our machine learning pipeline.\n",
        "\n",
        "Ultimately, the use of VectorAssembler aligns with our objective of optimizing feature representation and enhancing the predictive capabilities of our machine learning model for game success prediction."
      ],
      "metadata": {
        "id": "zPihthvtSbjJ"
      }
    },
    {
      "cell_type": "code",
      "source": [
        "va = VectorAssembler(inputCols=[\"achievments_int\",\"price_int\",\"positive_ratings_int\",\"negative_ratings\",\"average_playtime\",\"median_playtime\",\"average_owners\"], outputCol=\"ach_price_ratings_playtime_owners\")\n"
      ],
      "metadata": {
        "id": "E_ksWQD-UY_2"
      },
      "execution_count": 16,
      "outputs": []
    },
    {
      "cell_type": "markdown",
      "source": [
        "# Min-Max Scaling\n",
        "\n",
        "In our project, we're integrating the MinMaxScaler as a pivotal component of feature preprocessing to scale numerical features within a specific range. This involves applying the MinMaxScaler to the feature vector \"ach_price_ratings_playtime_owners,\" generated by the VectorAssembler, and transforming it into a new feature vector named \"ach_price_ratings_playtime_owners_mm_scaled.\"\n",
        "\n",
        "By incorporating the MinMaxScaler, we standardize the scaling of numerical features, ensuring they fall within a predefined range, typically between 0 and 1. This normalization process preserves the relative relationships between features while mitigating the impact of outliers."
      ],
      "metadata": {
        "id": "hB9HFxtgAH_R"
      }
    },
    {
      "cell_type": "code",
      "source": [
        "mm = MinMaxScaler(inputCol=\"ach_price_ratings_playtime_owners\", outputCol=\"ach_price_ratings_playtime_owners_mm_scaled\")"
      ],
      "metadata": {
        "id": "ttN4Iz4YYwsi"
      },
      "execution_count": 17,
      "outputs": []
    },
    {
      "cell_type": "code",
      "source": [
        "va1=VectorAssembler(inputCols=['ach_price_ratings_playtime_owners_mm_scaled','platform_windows', 'platform_linux', 'platform_mac', 'genre_Gore', 'genre_Casual', 'genre_Video Production', 'genre_Photo Editing', 'genre_Massively Multiplayer', 'genre_Adventure', 'genre_Sports', 'genre_Tutorial', 'genre_Simulation', 'genre_Software Training', 'genre_Documentary', 'genre_Game Development', 'genre_Accounting', 'genre_Animation & Modeling', 'genre_RPG', 'genre_Audio Production', 'genre_Racing', 'genre_Design & Illustration', 'genre_Strategy', 'genre_Early Access', 'genre_Utilities', 'genre_Nudity', 'genre_Web Publishing', 'genre_Action', 'genre_Indie', 'genre_Sexual Content', 'genre_Violent', 'genre_Education', 'genre_Free to Play'], outputCol=\"all_features\")"
      ],
      "metadata": {
        "id": "h7oeEYvScoaG"
      },
      "execution_count": 18,
      "outputs": []
    },
    {
      "cell_type": "code",
      "source": [
        "# function for calculating accuracy\n",
        "def calculate_accuracy(model):\n",
        "  model_acc = model.select('Newsuccess','prediction').toPandas()\n",
        "  model_correct_counts = model_acc[(model_acc[\"Newsuccess\"] == model_acc[\"prediction\"])].sum()\n",
        "  return (model_correct_counts/model_acc.count())"
      ],
      "metadata": {
        "id": "FTe-IdpBHoJi"
      },
      "execution_count": 19,
      "outputs": []
    },
    {
      "cell_type": "markdown",
      "source": [
        "# Classification Modelling\n",
        "\n",
        "Classification modeling analyzes game features to predict success and optimize marketing, aiding decision-making in game development and marketing strategies. By examining historical data on successful games, classification models can identify patterns and factors contributing to success. This enables developers and publishers to make data-driven decisions about which game concepts to pursue, reducing the risk of investing in projects with uncertain outcomes.\n",
        "\n",
        "\n",
        "\n",
        "\n"
      ],
      "metadata": {
        "id": "W9UfsgGcJ7P_"
      }
    },
    {
      "cell_type": "markdown",
      "source": [
        "# Random Forest Classifier\n",
        "\n",
        "Random Forest is selected for its robustness against overfitting, high predictive accuracy, and inherent feature importance assessment, making it ideal for complex tasks like game success prediction. Using a Random Forest Classifier with PySpark offers scalability and parallel processing for handling large game datasets efficiently. PySpark's integrated ecosystem streamlines end-to-end data processing, feature engineering, and model deployment.\n"
      ],
      "metadata": {
        "id": "FT7PUubuciB2"
      }
    },
    {
      "cell_type": "code",
      "source": [
        "forest = RandomForestClassifier(featuresCol='ach_price_ratings_playtime_owners_mm_scaled', labelCol=\"Newsuccess\")\n",
        "forestpipeline=Pipeline(stages=[str_idx,onehot,va,mm,forest])\n",
        "\n",
        "training, test=video_games_data.randomSplit([0.8,0.2], seed=100)\n",
        "forestmodel=forestpipeline.fit(training)\n",
        "forestresults=forestmodel.transform(test)\n",
        "\n",
        "forestresults.show(2, truncate=False)"
      ],
      "metadata": {
        "colab": {
          "base_uri": "https://localhost:8080/",
          "height": 0
        },
        "id": "XAhrk-dyL1QD",
        "outputId": "5845420e-0697-4279-dc16-7da470bda9c4"
      },
      "execution_count": 20,
      "outputs": [
        {
          "output_type": "stream",
          "name": "stdout",
          "text": [
            "+-----+----------------------+------------+-------+---------+---------+-----------------+------------+-------------------------------------------------------------------------------------------------------------------------+------+----------------------+------------+----------------+----------------+----------------+---------------+---------+-----+-------+--------------+------+--------------------+---------------+---------+-----------+----------------+--------------+------------+---------------+---------------------------+------------+----------------+----------------------+----------+----------------------+-------------+------------------+------------+---------------+--------------------+------------+--------------+------------+-----------------+---------+-------------------+---------------+------------------+-----------------------+-----------+--------------+--------------------------+----------------------+---------------------------+--------------------+----------------+------------+-----------------------------+----------------------+---------------------+---------------------------------+---------------------------+------------+-------------+-----------------------------------+-------------------------+---------------------------+---------------------------+--------------------------------+--------------+--------------+----------------------------+---------------------+---------------------------+-----------------------+----------------------------+------------------------------+--------------------+----------------------------+---------------------------------+-----------------------------------+-------------------+----------------------------+---------------------------+--------------------+-----------------------------+----------+---------+------------+------------+-------------+---------------------+---------------------+---------------------------------------------+-----------------------------------------------------------------------------------------------------------------------------------------------+-------------------------------------------+--------------------------------------------+----------+\n",
            "|appid|name                  |release_date|english|developer|publisher|platforms        |required_age|categories                                                                                                               |genres|steamspy_tags         |achievements|positive_ratings|negative_ratings|average_playtime|median_playtime|owners   |price|success|average_owners|decade|positive_ratings_int|achievments_int|price_int|english_int|platform_windows|platform_linux|platform_mac|genre_Education|genre_Design & Illustration|genre_Nudity|genre_Accounting|genre_Game Development|genre_Gore|genre_Video Production|genre_Violent|genre_Free to Play|genre_Racing|genre_Adventure|genre_Web Publishing|genre_Casual|genre_Tutorial|genre_Sports|genre_Documentary|genre_RPG|genre_Photo Editing|genre_Utilities|genre_Early Access|genre_Software Training|genre_Indie|genre_Strategy|genre_Animation & Modeling|genre_Audio Production|genre_Massively Multiplayer|genre_Sexual Content|genre_Simulation|genre_Action|category_SteamVR Collectibles|category_Single-player|category_Online Co-op|category_Steam Turn Notifications|category_Steam Leaderboards|category_MMO|category_Mods|category_Partial Controller Support|category_In-App Purchases|category_Local Multi-Player|category_Steam Achievements|category_Full controller support|category_Stats|category_Co-op|category_Online Multi-Player|category_Multi-player|category_Captions available|category_Steam Workshop|category_Steam Trading Cards|category_Includes level editor|category_Local Co-op|category_Includes Source SDK|category_Valve Anti-Cheat enabled|category_Cross-Platform Multiplayer|category_VR Support|category_Shared/Split Screen|category_Mods (require HL2)|category_Steam Cloud|category_Commentary available|Newsuccess|Newdecade|Newdeveloper|Newpublisher|Finaldecade  |Finaldeveloper       |finalpublisher       |ach_price_ratings_playtime_owners            |ach_price_ratings_playtime_owners_mm_scaled                                                                                                    |rawPrediction                              |probability                                 |prediction|\n",
            "+-----+----------------------+------------+-------+---------+---------+-----------------+------------+-------------------------------------------------------------------------------------------------------------------------+------+----------------------+------------+----------------+----------------+----------------+---------------+---------+-----+-------+--------------+------+--------------------+---------------+---------+-----------+----------------+--------------+------------+---------------+---------------------------+------------+----------------+----------------------+----------+----------------------+-------------+------------------+------------+---------------+--------------------+------------+--------------+------------+-----------------+---------+-------------------+---------------+------------------+-----------------------+-----------+--------------+--------------------------+----------------------+---------------------------+--------------------+----------------+------------+-----------------------------+----------------------+---------------------+---------------------------------+---------------------------+------------+-------------+-----------------------------------+-------------------------+---------------------------+---------------------------+--------------------------------+--------------+--------------+----------------------------+---------------------+---------------------------+-----------------------+----------------------------+------------------------------+--------------------+----------------------------+---------------------------------+-----------------------------------+-------------------+----------------------------+---------------------------+--------------------+-----------------------------+----------+---------+------------+------------+-------------+---------------------+---------------------+---------------------------------------------+-----------------------------------------------------------------------------------------------------------------------------------------------+-------------------------------------------+--------------------------------------------+----------+\n",
            "|40   |Deathmatch Classic    |2001-06-01  |1      |Valve    |Valve    |windows;mac;linux|0           |Multi-player;Online Multi-Player;Local Multi-Player;Valve Anti-Cheat enabled                                             |Action|Action;FPS;Multiplayer|0           |1273            |267             |258             |184            |7500000.0|3.99 |Yes    |7500000.0     |2000  |1273                |0              |3        |1          |1               |1             |1           |0              |0                          |0           |0               |0                     |0         |0                     |0            |0                 |0           |0              |0                   |0           |0             |0           |0                |0        |0                  |0              |0                 |0                      |0          |0             |0                         |0                     |0                          |0                   |0               |1           |0                            |0                     |0                    |0                                |0                          |0           |0            |0                                  |0                        |1                          |0                          |0                               |0             |0             |1                           |1                    |0                          |0                      |0                           |0                             |0                   |0                           |1                                |0                                  |0                  |0                           |0                          |0                   |0                            |1.0       |1.0      |12713.0     |10642.0     |(3,[1],[1.0])|(14377,[12713],[1.0])|(12089,[10642],[1.0])|[0.0,3.0,1273.0,267.0,258.0,184.0,7500000.0] |[0.0,0.007125890736342043,0.0014742208227611357,5.481690742307155E-4,0.0013534426229508195,9.652459016393442E-4,0.04993666244416294]           |[2.527806895482124,17.47219310451787,0.0]  |[0.12639034477410624,0.8736096552258938,0.0]|1.0       |\n",
            "|240  |Counter-Strike: Source|2004-11-01  |1      |Valve    |Valve    |windows;mac;linux|0           |Multi-player;Cross-Platform Multiplayer;Steam Achievements;Steam Cloud;Valve Anti-Cheat enabled;Stats;Includes Source SDK|Action|Action;FPS;Multiplayer|147         |76640           |3497            |6842            |400            |1.5E7    |7.19 |Yes    |1.5E7         |2000  |76640               |147            |7        |1          |1               |1             |1           |0              |0                          |0           |0               |0                     |0         |0                     |0            |0                 |0           |0              |0                   |0           |0             |0           |0                |0        |0                  |0              |0                 |0                      |0          |0             |0                         |0                     |0                          |0                   |0               |1           |0                            |0                     |0                    |0                                |0                          |0           |0            |0                                  |0                        |0                          |1                          |0                               |1             |0             |0                           |1                    |0                          |0                      |0                           |0                             |0                   |1                           |1                                |1                                  |0                  |0                           |0                          |1                   |0                            |1.0       |1.0      |12713.0     |10642.0     |(3,[1],[1.0])|(14377,[12713],[1.0])|(12089,[10642],[1.0])|[147.0,7.0,76640.0,3497.0,6842.0,400.0,1.5E7]|[0.014967925873129008,0.0166270783847981,0.08875434709851801,0.00717957772503675,0.03589245901639344,0.0020983606557377047,0.09993999599973331]|[1.4862743040137736,18.513725695986228,0.0]|[0.07431371520068868,0.9256862847993114,0.0]|1.0       |\n",
            "+-----+----------------------+------------+-------+---------+---------+-----------------+------------+-------------------------------------------------------------------------------------------------------------------------+------+----------------------+------------+----------------+----------------+----------------+---------------+---------+-----+-------+--------------+------+--------------------+---------------+---------+-----------+----------------+--------------+------------+---------------+---------------------------+------------+----------------+----------------------+----------+----------------------+-------------+------------------+------------+---------------+--------------------+------------+--------------+------------+-----------------+---------+-------------------+---------------+------------------+-----------------------+-----------+--------------+--------------------------+----------------------+---------------------------+--------------------+----------------+------------+-----------------------------+----------------------+---------------------+---------------------------------+---------------------------+------------+-------------+-----------------------------------+-------------------------+---------------------------+---------------------------+--------------------------------+--------------+--------------+----------------------------+---------------------+---------------------------+-----------------------+----------------------------+------------------------------+--------------------+----------------------------+---------------------------------+-----------------------------------+-------------------+----------------------------+---------------------------+--------------------+-----------------------------+----------+---------+------------+------------+-------------+---------------------+---------------------+---------------------------------------------+-----------------------------------------------------------------------------------------------------------------------------------------------+-------------------------------------------+--------------------------------------------+----------+\n",
            "only showing top 2 rows\n",
            "\n"
          ]
        }
      ]
    },
    {
      "cell_type": "markdown",
      "source": [
        "# Logistic Regression\n",
        "\n",
        "The logistic regression model is chosen for its simplicity, interpretability, and effectiveness in binary classification tasks like game success prediction. Utilizing the LogisticRegression model with PySpark offers scalability and parallel processing capabilities, enabling efficient handling of large game datasets."
      ],
      "metadata": {
        "id": "fAwUkAuQg_je"
      }
    },
    {
      "cell_type": "code",
      "source": [
        "lr = LogisticRegression(featuresCol='all_features', labelCol=\"Newsuccess\")\n",
        "lrpipeline=Pipeline(stages=[str_idx,onehot,va,mm,va1,lr])\n",
        "\n",
        "training, test=video_games_data.randomSplit([0.8,0.2], seed=100)\n",
        "lrmodel=lrpipeline.fit(training)\n",
        "lrresults=lrmodel.transform(test)\n",
        "\n",
        "lrresults.show(2, truncate=False)"
      ],
      "metadata": {
        "colab": {
          "base_uri": "https://localhost:8080/",
          "height": 0
        },
        "id": "ApY08S2Ybt8j",
        "outputId": "64f17f38-ed13-40ff-c148-565e4b1209ed"
      },
      "execution_count": 21,
      "outputs": [
        {
          "output_type": "stream",
          "name": "stdout",
          "text": [
            "+-----+----------------------+------------+-------+---------+---------+-----------------+------------+-------------------------------------------------------------------------------------------------------------------------+------+----------------------+------------+----------------+----------------+----------------+---------------+---------+-----+-------+--------------+------+--------------------+---------------+---------+-----------+----------------+--------------+------------+---------------+---------------------------+------------+----------------+----------------------+----------+----------------------+-------------+------------------+------------+---------------+--------------------+------------+--------------+------------+-----------------+---------+-------------------+---------------+------------------+-----------------------+-----------+--------------+--------------------------+----------------------+---------------------------+--------------------+----------------+------------+-----------------------------+----------------------+---------------------+---------------------------------+---------------------------+------------+-------------+-----------------------------------+-------------------------+---------------------------+---------------------------+--------------------------------+--------------+--------------+----------------------------+---------------------+---------------------------+-----------------------+----------------------------+------------------------------+--------------------+----------------------------+---------------------------------+-----------------------------------+-------------------+----------------------------+---------------------------+--------------------+-----------------------------+----------+---------+------------+------------+-------------+---------------------+---------------------+---------------------------------------------+-----------------------------------------------------------------------------------------------------------------------------------------------+---------------------------------------------------------------------------------------------------------------------------------------------------------------------------------------------+----------------------------------------------------------+--------------------------------+----------+\n",
            "|appid|name                  |release_date|english|developer|publisher|platforms        |required_age|categories                                                                                                               |genres|steamspy_tags         |achievements|positive_ratings|negative_ratings|average_playtime|median_playtime|owners   |price|success|average_owners|decade|positive_ratings_int|achievments_int|price_int|english_int|platform_windows|platform_linux|platform_mac|genre_Education|genre_Design & Illustration|genre_Nudity|genre_Accounting|genre_Game Development|genre_Gore|genre_Video Production|genre_Violent|genre_Free to Play|genre_Racing|genre_Adventure|genre_Web Publishing|genre_Casual|genre_Tutorial|genre_Sports|genre_Documentary|genre_RPG|genre_Photo Editing|genre_Utilities|genre_Early Access|genre_Software Training|genre_Indie|genre_Strategy|genre_Animation & Modeling|genre_Audio Production|genre_Massively Multiplayer|genre_Sexual Content|genre_Simulation|genre_Action|category_SteamVR Collectibles|category_Single-player|category_Online Co-op|category_Steam Turn Notifications|category_Steam Leaderboards|category_MMO|category_Mods|category_Partial Controller Support|category_In-App Purchases|category_Local Multi-Player|category_Steam Achievements|category_Full controller support|category_Stats|category_Co-op|category_Online Multi-Player|category_Multi-player|category_Captions available|category_Steam Workshop|category_Steam Trading Cards|category_Includes level editor|category_Local Co-op|category_Includes Source SDK|category_Valve Anti-Cheat enabled|category_Cross-Platform Multiplayer|category_VR Support|category_Shared/Split Screen|category_Mods (require HL2)|category_Steam Cloud|category_Commentary available|Newsuccess|Newdecade|Newdeveloper|Newpublisher|Finaldecade  |Finaldeveloper       |finalpublisher       |ach_price_ratings_playtime_owners            |ach_price_ratings_playtime_owners_mm_scaled                                                                                                    |all_features                                                                                                                                                                                 |rawPrediction                                             |probability                     |prediction|\n",
            "+-----+----------------------+------------+-------+---------+---------+-----------------+------------+-------------------------------------------------------------------------------------------------------------------------+------+----------------------+------------+----------------+----------------+----------------+---------------+---------+-----+-------+--------------+------+--------------------+---------------+---------+-----------+----------------+--------------+------------+---------------+---------------------------+------------+----------------+----------------------+----------+----------------------+-------------+------------------+------------+---------------+--------------------+------------+--------------+------------+-----------------+---------+-------------------+---------------+------------------+-----------------------+-----------+--------------+--------------------------+----------------------+---------------------------+--------------------+----------------+------------+-----------------------------+----------------------+---------------------+---------------------------------+---------------------------+------------+-------------+-----------------------------------+-------------------------+---------------------------+---------------------------+--------------------------------+--------------+--------------+----------------------------+---------------------+---------------------------+-----------------------+----------------------------+------------------------------+--------------------+----------------------------+---------------------------------+-----------------------------------+-------------------+----------------------------+---------------------------+--------------------+-----------------------------+----------+---------+------------+------------+-------------+---------------------+---------------------+---------------------------------------------+-----------------------------------------------------------------------------------------------------------------------------------------------+---------------------------------------------------------------------------------------------------------------------------------------------------------------------------------------------+----------------------------------------------------------+--------------------------------+----------+\n",
            "|40   |Deathmatch Classic    |2001-06-01  |1      |Valve    |Valve    |windows;mac;linux|0           |Multi-player;Online Multi-Player;Local Multi-Player;Valve Anti-Cheat enabled                                             |Action|Action;FPS;Multiplayer|0           |1273            |267             |258             |184            |7500000.0|3.99 |Yes    |7500000.0     |2000  |1273                |0              |3        |1          |1               |1             |1           |0              |0                          |0           |0               |0                     |0         |0                     |0            |0                 |0           |0              |0                   |0           |0             |0           |0                |0        |0                  |0              |0                 |0                      |0          |0             |0                         |0                     |0                          |0                   |0               |1           |0                            |0                     |0                    |0                                |0                          |0           |0            |0                                  |0                        |1                          |0                          |0                               |0             |0             |1                           |1                    |0                          |0                      |0                           |0                             |0                   |0                           |1                                |0                                  |0                  |0                           |0                          |0                   |0                            |1.0       |1.0      |12713.0     |10642.0     |(3,[1],[1.0])|(14377,[12713],[1.0])|(12089,[10642],[1.0])|[0.0,3.0,1273.0,267.0,258.0,184.0,7500000.0] |[0.0,0.007125890736342043,0.0014742208227611357,5.481690742307155E-4,0.0013534426229508195,9.652459016393442E-4,0.04993666244416294]           |(39,[1,2,3,4,5,6,7,8,9,33],[0.007125890736342043,0.0014742208227611357,5.481690742307155E-4,0.0013534426229508195,9.652459016393442E-4,0.04993666244416294,1.0,1.0,1.0,1.0])                 |[2505.841964907454,2645.776084143958,-5151.618049051412]  |[1.6880456440677593E-61,1.0,0.0]|1.0       |\n",
            "|240  |Counter-Strike: Source|2004-11-01  |1      |Valve    |Valve    |windows;mac;linux|0           |Multi-player;Cross-Platform Multiplayer;Steam Achievements;Steam Cloud;Valve Anti-Cheat enabled;Stats;Includes Source SDK|Action|Action;FPS;Multiplayer|147         |76640           |3497            |6842            |400            |1.5E7    |7.19 |Yes    |1.5E7         |2000  |76640               |147            |7        |1          |1               |1             |1           |0              |0                          |0           |0               |0                     |0         |0                     |0            |0                 |0           |0              |0                   |0           |0             |0           |0                |0        |0                  |0              |0                 |0                      |0          |0             |0                         |0                     |0                          |0                   |0               |1           |0                            |0                     |0                    |0                                |0                          |0           |0            |0                                  |0                        |0                          |1                          |0                               |1             |0             |0                           |1                    |0                          |0                      |0                           |0                             |0                   |1                           |1                                |1                                  |0                  |0                           |0                          |1                   |0                            |1.0       |1.0      |12713.0     |10642.0     |(3,[1],[1.0])|(14377,[12713],[1.0])|(12089,[10642],[1.0])|[147.0,7.0,76640.0,3497.0,6842.0,400.0,1.5E7]|[0.014967925873129008,0.0166270783847981,0.08875434709851801,0.00717957772503675,0.03589245901639344,0.0020983606557377047,0.09993999599973331]|(39,[0,1,2,3,4,5,6,7,8,9,33],[0.014967925873129008,0.0166270783847981,0.08875434709851801,0.00717957772503675,0.03589245901639344,0.0020983606557377047,0.09993999599973331,1.0,1.0,1.0,1.0])|[-6280.043893042019,10957.650878069704,-4677.606985027685]|[0.0,1.0,0.0]                   |1.0       |\n",
            "+-----+----------------------+------------+-------+---------+---------+-----------------+------------+-------------------------------------------------------------------------------------------------------------------------+------+----------------------+------------+----------------+----------------+----------------+---------------+---------+-----+-------+--------------+------+--------------------+---------------+---------+-----------+----------------+--------------+------------+---------------+---------------------------+------------+----------------+----------------------+----------+----------------------+-------------+------------------+------------+---------------+--------------------+------------+--------------+------------+-----------------+---------+-------------------+---------------+------------------+-----------------------+-----------+--------------+--------------------------+----------------------+---------------------------+--------------------+----------------+------------+-----------------------------+----------------------+---------------------+---------------------------------+---------------------------+------------+-------------+-----------------------------------+-------------------------+---------------------------+---------------------------+--------------------------------+--------------+--------------+----------------------------+---------------------+---------------------------+-----------------------+----------------------------+------------------------------+--------------------+----------------------------+---------------------------------+-----------------------------------+-------------------+----------------------------+---------------------------+--------------------+-----------------------------+----------+---------+------------+------------+-------------+---------------------+---------------------+---------------------------------------------+-----------------------------------------------------------------------------------------------------------------------------------------------+---------------------------------------------------------------------------------------------------------------------------------------------------------------------------------------------+----------------------------------------------------------+--------------------------------+----------+\n",
            "only showing top 2 rows\n",
            "\n"
          ]
        }
      ]
    },
    {
      "cell_type": "markdown",
      "source": [
        "# Area Under ROC for Models"
      ],
      "metadata": {
        "id": "mYU8HU_pAXkM"
      }
    },
    {
      "cell_type": "code",
      "source": [
        "foresteval=BinaryClassificationEvaluator(rawPredictionCol=\"prediction\",labelCol=\"Newsuccess\")\n",
        "foresteval.evaluate(forestresults)"
      ],
      "metadata": {
        "colab": {
          "base_uri": "https://localhost:8080/",
          "height": 0
        },
        "id": "fkvX4tuGMRZk",
        "outputId": "7e71f0b6-8fe1-44a4-e22e-b1d12f1985f2"
      },
      "execution_count": 22,
      "outputs": [
        {
          "output_type": "execute_result",
          "data": {
            "text/plain": [
              "0.7824612403100775"
            ]
          },
          "metadata": {},
          "execution_count": 22
        }
      ]
    },
    {
      "cell_type": "code",
      "source": [
        "lreval=BinaryClassificationEvaluator(rawPredictionCol=\"prediction\",labelCol=\"Newsuccess\")\n",
        "lreval.evaluate(lrresults)"
      ],
      "metadata": {
        "colab": {
          "base_uri": "https://localhost:8080/",
          "height": 0
        },
        "id": "X4g1KwyzD3VY",
        "outputId": "e3e5c822-22af-4344-d043-3b206380f13a"
      },
      "execution_count": 23,
      "outputs": [
        {
          "output_type": "execute_result",
          "data": {
            "text/plain": [
              "0.8156619921578615"
            ]
          },
          "metadata": {},
          "execution_count": 23
        }
      ]
    },
    {
      "cell_type": "markdown",
      "source": [
        "Area Under the ROC Curve (AUC) measures the ability of a binary classification model to distinguish between positive and negative classes. A higher AUC value indicates better model performance in correctly identifying positive instances.\n",
        "\n",
        "The Random Forest model has an AUC of 0.72, while the Logistic Regression model achieves a higher AUC of 0.82. This difference suggests that the Logistic Regression model outperforms the Random Forest model in distinguishing between positive and negative instances, indicating superior predictive capability and potential for better performance in game success prediction tasks."
      ],
      "metadata": {
        "id": "FaDpKrsnaGyu"
      }
    },
    {
      "cell_type": "markdown",
      "source": [
        "# Accuracies of the Models"
      ],
      "metadata": {
        "id": "WAVo7BWtAPmH"
      }
    },
    {
      "cell_type": "code",
      "source": [
        "calculate_accuracy(lrresults)"
      ],
      "metadata": {
        "colab": {
          "base_uri": "https://localhost:8080/",
          "height": 0
        },
        "id": "pEus_E2-FOg1",
        "outputId": "dc363596-7ccd-4595-986c-525374b9497f"
      },
      "execution_count": 24,
      "outputs": [
        {
          "output_type": "execute_result",
          "data": {
            "text/plain": [
              "Newsuccess    0.80591\n",
              "prediction    0.80591\n",
              "dtype: float64"
            ]
          },
          "metadata": {},
          "execution_count": 24
        }
      ]
    },
    {
      "cell_type": "code",
      "source": [
        "calculate_accuracy(forestresults)"
      ],
      "metadata": {
        "colab": {
          "base_uri": "https://localhost:8080/",
          "height": 0
        },
        "id": "e_DPlxPRMYA5",
        "outputId": "38a3c6ed-ab61-4d80-a21d-6ac6a44fad3c"
      },
      "execution_count": 25,
      "outputs": [
        {
          "output_type": "execute_result",
          "data": {
            "text/plain": [
              "Newsuccess    0.809418\n",
              "prediction    0.809418\n",
              "dtype: float64"
            ]
          },
          "metadata": {},
          "execution_count": 25
        }
      ]
    },
    {
      "cell_type": "markdown",
      "source": [
        "The accuracy of the Logistic Regression model is approximately 80.59%, while the accuracy of the Random Forest model is around 80.94%. Both models demonstrate relatively similar accuracies, indicating comparable performance in correctly predicting game success."
      ],
      "metadata": {
        "id": "1NhXKOtScm8W"
      }
    },
    {
      "cell_type": "markdown",
      "source": [
        "# **Future Scope**\n",
        "\n",
        "Both the Logistic Regression and Random Forest models can be leveraged for predicting game success and informing future business decisions in the gaming industry.\n",
        "\n",
        "**Prediction of Game Success:** These models utilize various features such as genre, developer, publisher, price, and user ratings to predict the likelihood of a game's success. By inputting data on upcoming or planned game releases into the trained models, businesses can obtain predictions on the potential success of these games. This aids in prioritizing resource allocation, marketing efforts, and strategic planning.\n",
        "\n",
        "**Targeted Marketing:** The models' predictions can guide targeted marketing campaigns by identifying key factors influencing game success. For instance, if the models highlight positive user ratings and lower price as significant predictors of success, marketing strategies can emphasize these aspects to attract potential buyers.\n",
        "\n",
        "**Product Development:** Insights from the models can inform product development decisions. For example, if certain genres consistently perform well according to the models, game developers may focus on creating more titles in those genres to capitalize on market demand.\n",
        "\n",
        "\n",
        "\n",
        "Overall, integrating the predictive insights from these models into business strategies enables companies to make data-driven decisions, optimize resource allocation, and enhance sales performance in the competitive gaming market."
      ],
      "metadata": {
        "id": "VzIBrHEhdRh8"
      }
    },
    {
      "cell_type": "markdown",
      "source": [
        "# Frequent Pattern Mining\n",
        "\n",
        "Frequent Pattern Mining (FPM) is a technique used to discover recurring patterns or itemsets in a dataset. In the context of video game data, FPM can analyze tags associated with games to identify frequently occurring combinations of tags.\n",
        "\n",
        "Business Problems we are trying to solve:\n",
        "\n",
        "- Increasing Revenue Through Bundled Game Sales\n",
        "- Enhancing Customer Segmentation for Targeted Marketing\n",
        "\n"
      ],
      "metadata": {
        "id": "2D56ukZSOZya"
      }
    },
    {
      "cell_type": "code",
      "source": [
        "video_games_data = video_games_data.withColumn('tags_array', split(video_games_data['steamspy_tags'], ';'))\n",
        "video_games_data.select('tags_array').show(2)"
      ],
      "metadata": {
        "colab": {
          "base_uri": "https://localhost:8080/",
          "height": 0
        },
        "id": "3wBvX4RtPO8M",
        "outputId": "fe863378-5e37-48f4-b666-a8b028526de9"
      },
      "execution_count": 26,
      "outputs": [
        {
          "output_type": "stream",
          "name": "stdout",
          "text": [
            "+--------------------+\n",
            "|          tags_array|\n",
            "+--------------------+\n",
            "|[Action, FPS, Mul...|\n",
            "|[Action, FPS, Mul...|\n",
            "+--------------------+\n",
            "only showing top 2 rows\n",
            "\n"
          ]
        }
      ]
    },
    {
      "cell_type": "markdown",
      "source": [
        "Using frequent pattern mining on the **'steamtag_pys'** tag data can provide useful insights for the given business questions. By analyzing patterns of tag co-occurrence, FPM helps identify popular tag combinations and understand customer preferences. This information can be valuable for creating bundled game sales packages that appeal to a wide audience and for refining customer segmentation strategies for targeted marketing efforts. Overall, FPM offers a data-driven approach to uncovering patterns in customer behavior and preferences, which can inform strategic decision-making in the gaming industry."
      ],
      "metadata": {
        "id": "Crti56KgiP3h"
      }
    },
    {
      "cell_type": "code",
      "source": [
        "from pyspark.ml.fpm import FPGrowth\n",
        "fpGrowth = FPGrowth(itemsCol=\"tags_array\", minSupport=0.0, minConfidence=0.0)\n",
        "\n",
        "model = fpGrowth.fit(video_games_data)\n",
        "\n",
        "tags = model.freqItemsets\n",
        "\n",
        "print(\"Number of observations in new data set:\",tags.count())\n",
        "print(tags.show(10,truncate=False))"
      ],
      "metadata": {
        "colab": {
          "base_uri": "https://localhost:8080/",
          "height": 0
        },
        "id": "Z5XpjKxxOWz3",
        "outputId": "6fb797e1-ed10-4bbb-f869-8e2ff83f76e1"
      },
      "execution_count": 27,
      "outputs": [
        {
          "output_type": "stream",
          "name": "stdout",
          "text": [
            "Number of observations in new data set: 7771\n",
            "+----------------------------------+----+\n",
            "|items                             |freq|\n",
            "+----------------------------------+----+\n",
            "|[Tanks]                           |21  |\n",
            "|[Tanks, Multiplayer]              |3   |\n",
            "|[Tanks, Multiplayer, Free to Play]|1   |\n",
            "|[Tanks, Multiplayer, Action]      |1   |\n",
            "|[Tanks, Multiplayer, Early Access]|1   |\n",
            "|[Tanks, Free to Play]             |5   |\n",
            "|[Tanks, Free to Play, Action]     |4   |\n",
            "|[Tanks, Simulation]               |6   |\n",
            "|[Tanks, Simulation, Strategy]     |2   |\n",
            "|[Tanks, Simulation, Action]       |1   |\n",
            "+----------------------------------+----+\n",
            "only showing top 10 rows\n",
            "\n",
            "None\n"
          ]
        }
      ]
    },
    {
      "cell_type": "markdown",
      "source": [
        "## Association Rules\n",
        "\n",
        "Association rules derived from frequent pattern mining can inform product bundling, targeted marketing, and customer segmentation in the gaming industry. By identifying patterns of co-occurrence between game tags or features, businesses can create bundled game sales packages tailored to customer preferences, target marketing efforts to specific audience segments, and refine customer segmentation strategies based on shared interests."
      ],
      "metadata": {
        "id": "6BnEfmVnin-S"
      }
    },
    {
      "cell_type": "code",
      "source": [
        "rules=model.associationRules\n",
        "rules.show(3)"
      ],
      "metadata": {
        "colab": {
          "base_uri": "https://localhost:8080/",
          "height": 0
        },
        "id": "cV0_7719OV8s",
        "outputId": "51009b52-3f5b-4944-bd48-766d84b6eb57"
      },
      "execution_count": 28,
      "outputs": [
        {
          "output_type": "stream",
          "name": "stdout",
          "text": [
            "+--------------------+----------------+----------+------------------+--------------------+\n",
            "|          antecedent|      consequent|confidence|              lift|             support|\n",
            "+--------------------+----------------+----------+------------------+--------------------+\n",
            "|[Walking Simulato...|     [Adventure]|       1.0| 3.484747071695199|3.693716987404425E-5|\n",
            "|     [Funny, Puzzle]|[Pixel Graphics]|       0.5|54.363453815261046|3.693716987404425E-5|\n",
            "|     [Funny, Puzzle]|        [Action]|       0.5|1.3114222049990312|3.693716987404425E-5|\n",
            "+--------------------+----------------+----------+------------------+--------------------+\n",
            "only showing top 3 rows\n",
            "\n"
          ]
        }
      ]
    },
    {
      "cell_type": "markdown",
      "source": [
        "EDA of the performance metrics in the association rules."
      ],
      "metadata": {
        "id": "-KzN7JfNgROA"
      }
    },
    {
      "cell_type": "code",
      "source": [
        "rules.summary().show(3)"
      ],
      "metadata": {
        "colab": {
          "base_uri": "https://localhost:8080/",
          "height": 0
        },
        "id": "oAP97uVUmyZk",
        "outputId": "4ad65662-efff-443c-d900-f1ae30cdf387"
      },
      "execution_count": 29,
      "outputs": [
        {
          "output_type": "stream",
          "name": "stdout",
          "text": [
            "+-------+-------------------+------------------+--------------------+\n",
            "|summary|         confidence|              lift|             support|\n",
            "+-------+-------------------+------------------+--------------------+\n",
            "|  count|              18851|             18851|               18851|\n",
            "|   mean| 0.2164544490700606| 51.92053481293637|4.387021258611625...|\n",
            "| stddev|0.31603358149528665|453.23174465464405|0.004591310135544972|\n",
            "+-------+-------------------+------------------+--------------------+\n",
            "only showing top 3 rows\n",
            "\n"
          ]
        }
      ]
    },
    {
      "cell_type": "markdown",
      "source": [
        "In the EDA, we are aiming the final quadrant that is 75% for our following business problems ensuring the capture of top performing games."
      ],
      "metadata": {
        "id": "wX8R9I_FgZa9"
      }
    },
    {
      "cell_type": "markdown",
      "source": [
        "# Business Problems\n",
        "1. Increasing Revenue Through Bundled Game Sales\n",
        "2. Enhancing Customer Segmentation for Targeted Marketing"
      ],
      "metadata": {
        "id": "EzrVdNEgi0lo"
      }
    },
    {
      "cell_type": "markdown",
      "source": [
        "# 1. Increasing Revenue Through Bundled Game Sales\n",
        "\n",
        " Utilize lift and support metrics to identify pairs or groups of game tags that have both a high lift (indicating strong association) and high support (indicating popularity). These combinations can be used to create bundled game packages or themed collections that appeal to a wide audience while leveraging the cross-selling potential between associated tags. By offering these bundles at a discounted price or as part of a limited-time promotion, you can encourage customers to purchase multiple games together, leading to increased revenue.\n"
      ],
      "metadata": {
        "id": "gkrPrmlti0gc"
      }
    },
    {
      "cell_type": "code",
      "source": [
        "result1=rules.filter((rules['lift']>10) & (rules['confidence']>0.28))\n",
        "result1.show(5)\n",
        "result1.select('antecedent').limit(5).rdd.flatMap(lambda x: x).collect()"
      ],
      "metadata": {
        "colab": {
          "base_uri": "https://localhost:8080/",
          "height": 0
        },
        "id": "S9O6JiSoOV7N",
        "outputId": "716e1918-af38-4eee-aed6-889d27e041e5"
      },
      "execution_count": 30,
      "outputs": [
        {
          "output_type": "stream",
          "name": "stdout",
          "text": [
            "+--------------------+--------------------+------------------+------------------+--------------------+\n",
            "|          antecedent|          consequent|        confidence|              lift|             support|\n",
            "+--------------------+--------------------+------------------+------------------+--------------------+\n",
            "|     [Funny, Puzzle]|    [Pixel Graphics]|               0.5|54.363453815261046|3.693716987404425E-5|\n",
            "|[Resource Managem...|      [City Builder]|               0.5| 190.6549295774648| 7.38743397480885E-5|\n",
            "|[Action-Adventure...|           [Zombies]|0.3333333333333333| 57.11603375527426|3.693716987404425E-5|\n",
            "|[Audio Production...|         [Utilities]|               1.0|196.18115942028987|3.693716987404425E-5|\n",
            "|[Parkour, Platfor...|[Female Protagonist]|               1.0|136.04522613065328|3.693716987404425E-5|\n",
            "+--------------------+--------------------+------------------+------------------+--------------------+\n",
            "only showing top 5 rows\n",
            "\n"
          ]
        },
        {
          "output_type": "execute_result",
          "data": {
            "text/plain": [
              "[['Funny', 'Puzzle'],\n",
              " ['Resource Management', 'Strategy'],\n",
              " ['Action-Adventure', 'Adventure'],\n",
              " ['Audio Production', 'Animation & Modeling'],\n",
              " ['Parkour', 'Platformer']]"
            ]
          },
          "metadata": {},
          "execution_count": 30
        }
      ]
    },
    {
      "cell_type": "markdown",
      "source": [
        "***Inference***\n",
        "\n",
        "The identified pairs of game tags, such as **'Funny' and 'Puzzle'**, **'Resource Management' and 'Strategy'**, indicate strong associations between these tags. This suggests that customers who are interested in one tag are likely to be interested in the other as well. By bundling games with these associated tags together, you can create appealing packages that cater to a broader audience. For example, offering a bundle containing both funny and puzzle games would attract customers who enjoy both genres, potentially leading to increased sales as customers are incentivized to purchase multiple games together. Additionally, leveraging the cross-selling potential of associated tags can help maximize revenue by encouraging customers to explore and purchase additional games within the bundle."
      ],
      "metadata": {
        "id": "pZIlnQCzhXII"
      }
    },
    {
      "cell_type": "markdown",
      "source": [
        "# 2. Enhancing Customer Segmentation for Targeted Marketing\n",
        "\n",
        "Utilize support and confidence metrics to refine customer segmentation strategies based on game tag preferences. Calculate support values to identify popular game tags among different customer segments, indicating the overall popularity of each tag within a segment. Then, use confidence values to measure the strength of associations between specific game tags and customer segments. High-confidence rules indicate that certain tags are strongly associated with particular segments, suggesting targeted marketing opportunities. By leveraging both support and confidence metrics, you can refine customer segmentation criteria and tailor marketing campaigns to specific segments based on their preferences, leading to more effective targeting and higher conversion rates."
      ],
      "metadata": {
        "id": "7pfBdD5cl-jO"
      }
    },
    {
      "cell_type": "code",
      "source": [
        "result2=rules.filter((rules['support']>0.05) & (rules['confidence']>0.05))\n",
        "result2.orderBy(\"confidence\",ascending=False).show(3)\n",
        "result2.select('antecedent').limit(5).rdd.flatMap(lambda x: x).collect()"
      ],
      "metadata": {
        "colab": {
          "base_uri": "https://localhost:8080/",
          "height": 0
        },
        "id": "fLLKp_nUinVk",
        "outputId": "35d57286-e0ac-451d-841a-b276dc9f41ba"
      },
      "execution_count": 31,
      "outputs": [
        {
          "output_type": "stream",
          "name": "stdout",
          "text": [
            "+----------------+----------+------------------+------------------+--------------------+\n",
            "|      antecedent|consequent|        confidence|              lift|             support|\n",
            "+----------------+----------+------------------+------------------+--------------------+\n",
            "|[Casual, Action]|   [Indie]|0.7256637168141593|1.2104678869568537|0.054519262734089316|\n",
            "|        [Casual]|   [Indie]|0.6827544180377818|1.1388915809942617|  0.2069220256343959|\n",
            "|        [Action]|   [Indie]|0.6464832396822321|1.0783882161378355|  0.2464817345694973|\n",
            "+----------------+----------+------------------+------------------+--------------------+\n",
            "only showing top 3 rows\n",
            "\n"
          ]
        },
        {
          "output_type": "execute_result",
          "data": {
            "text/plain": [
              "[['Action', 'Indie'],\n",
              " ['Action', 'Indie'],\n",
              " ['Adventure', 'Action'],\n",
              " ['Adventure', 'Indie'],\n",
              " ['Casual']]"
            ]
          },
          "metadata": {},
          "execution_count": 31
        }
      ]
    },
    {
      "cell_type": "markdown",
      "source": [
        "***Inference***\n",
        "\n",
        "The identified associations between game tags and customer segments, such as **'Action' and 'Indie', 'Adventure' and 'Indie',** provide valuable insights into the preferences of different customer segments. High-confidence rules indicate strong associations between specific game tags and customer segments, suggesting targeted marketing opportunities. For instance, if **'Action'** games have a high confidence level among the **'Indie'** segment, it implies that customers in this segment are more likely to be interested in **'Action'** games. By tailoring marketing campaigns to specific segments based on their preferences, such as promoting indie action games to indie game enthusiasts, businesses can enhance the effectiveness of their marketing efforts and improve customer engagement. This targeted approach increases the likelihood of conversion as customers are presented with products that align closely with their interests and preferences."
      ],
      "metadata": {
        "id": "jo6-V1BlhenC"
      }
    },
    {
      "cell_type": "markdown",
      "source": [
        "## Clustering Analysis for Games Dataset\n",
        "\n",
        "In this section, we perform clustering analysis on the games dataset, focusing on the features 'positive_ratings_int,' 'achievements_int,' and 'price_int.' The goal is to uncover patterns and categorize games based on these key attributes."
      ],
      "metadata": {
        "id": "Bi8wcLb2Ev7U"
      }
    },
    {
      "cell_type": "code",
      "source": [
        "from pyspark.ml.clustering import KMeans\n",
        "from pyspark.ml.feature import StandardScaler\n",
        "from pyspark.ml.evaluation import ClusteringEvaluator"
      ],
      "metadata": {
        "id": "erkEHNRiEx3u"
      },
      "execution_count": 32,
      "outputs": []
    },
    {
      "cell_type": "code",
      "source": [
        "video_games_data.printSchema()"
      ],
      "metadata": {
        "colab": {
          "base_uri": "https://localhost:8080/",
          "height": 0
        },
        "id": "wSn_puPdGLCZ",
        "outputId": "de4b428a-dcf4-4c62-f297-a5d7b83eef95"
      },
      "execution_count": 33,
      "outputs": [
        {
          "output_type": "stream",
          "name": "stdout",
          "text": [
            "root\n",
            " |-- appid: integer (nullable = true)\n",
            " |-- name: string (nullable = true)\n",
            " |-- release_date: date (nullable = true)\n",
            " |-- english: string (nullable = true)\n",
            " |-- developer: string (nullable = true)\n",
            " |-- publisher: string (nullable = true)\n",
            " |-- platforms: string (nullable = true)\n",
            " |-- required_age: string (nullable = true)\n",
            " |-- categories: string (nullable = true)\n",
            " |-- genres: string (nullable = true)\n",
            " |-- steamspy_tags: string (nullable = true)\n",
            " |-- achievements: string (nullable = true)\n",
            " |-- positive_ratings: string (nullable = true)\n",
            " |-- negative_ratings: integer (nullable = true)\n",
            " |-- average_playtime: integer (nullable = true)\n",
            " |-- median_playtime: integer (nullable = true)\n",
            " |-- owners: string (nullable = true)\n",
            " |-- price: string (nullable = true)\n",
            " |-- success: string (nullable = true)\n",
            " |-- average_owners: double (nullable = true)\n",
            " |-- decade: long (nullable = true)\n",
            " |-- positive_ratings_int: integer (nullable = true)\n",
            " |-- achievments_int: integer (nullable = true)\n",
            " |-- price_int: integer (nullable = true)\n",
            " |-- english_int: integer (nullable = true)\n",
            " |-- platform_windows: integer (nullable = false)\n",
            " |-- platform_linux: integer (nullable = false)\n",
            " |-- platform_mac: integer (nullable = false)\n",
            " |-- genre_Education: integer (nullable = false)\n",
            " |-- genre_Design & Illustration: integer (nullable = false)\n",
            " |-- genre_Nudity: integer (nullable = false)\n",
            " |-- genre_Accounting: integer (nullable = false)\n",
            " |-- genre_Game Development: integer (nullable = false)\n",
            " |-- genre_Gore: integer (nullable = false)\n",
            " |-- genre_Video Production: integer (nullable = false)\n",
            " |-- genre_Violent: integer (nullable = false)\n",
            " |-- genre_Free to Play: integer (nullable = false)\n",
            " |-- genre_Racing: integer (nullable = false)\n",
            " |-- genre_Adventure: integer (nullable = false)\n",
            " |-- genre_Web Publishing: integer (nullable = false)\n",
            " |-- genre_Casual: integer (nullable = false)\n",
            " |-- genre_Tutorial: integer (nullable = false)\n",
            " |-- genre_Sports: integer (nullable = false)\n",
            " |-- genre_Documentary: integer (nullable = false)\n",
            " |-- genre_RPG: integer (nullable = false)\n",
            " |-- genre_Photo Editing: integer (nullable = false)\n",
            " |-- genre_Utilities: integer (nullable = false)\n",
            " |-- genre_Early Access: integer (nullable = false)\n",
            " |-- genre_Software Training: integer (nullable = false)\n",
            " |-- genre_Indie: integer (nullable = false)\n",
            " |-- genre_Strategy: integer (nullable = false)\n",
            " |-- genre_Animation & Modeling: integer (nullable = false)\n",
            " |-- genre_Audio Production: integer (nullable = false)\n",
            " |-- genre_Massively Multiplayer: integer (nullable = false)\n",
            " |-- genre_Sexual Content: integer (nullable = false)\n",
            " |-- genre_Simulation: integer (nullable = false)\n",
            " |-- genre_Action: integer (nullable = false)\n",
            " |-- category_SteamVR Collectibles: integer (nullable = false)\n",
            " |-- category_Single-player: integer (nullable = false)\n",
            " |-- category_Online Co-op: integer (nullable = false)\n",
            " |-- category_Steam Turn Notifications: integer (nullable = false)\n",
            " |-- category_Steam Leaderboards: integer (nullable = false)\n",
            " |-- category_MMO: integer (nullable = false)\n",
            " |-- category_Mods: integer (nullable = false)\n",
            " |-- category_Partial Controller Support: integer (nullable = false)\n",
            " |-- category_In-App Purchases: integer (nullable = false)\n",
            " |-- category_Local Multi-Player: integer (nullable = false)\n",
            " |-- category_Steam Achievements: integer (nullable = false)\n",
            " |-- category_Full controller support: integer (nullable = false)\n",
            " |-- category_Stats: integer (nullable = false)\n",
            " |-- category_Co-op: integer (nullable = false)\n",
            " |-- category_Online Multi-Player: integer (nullable = false)\n",
            " |-- category_Multi-player: integer (nullable = false)\n",
            " |-- category_Captions available: integer (nullable = false)\n",
            " |-- category_Steam Workshop: integer (nullable = false)\n",
            " |-- category_Steam Trading Cards: integer (nullable = false)\n",
            " |-- category_Includes level editor: integer (nullable = false)\n",
            " |-- category_Local Co-op: integer (nullable = false)\n",
            " |-- category_Includes Source SDK: integer (nullable = false)\n",
            " |-- category_Valve Anti-Cheat enabled: integer (nullable = false)\n",
            " |-- category_Cross-Platform Multiplayer: integer (nullable = false)\n",
            " |-- category_VR Support: integer (nullable = false)\n",
            " |-- category_Shared/Split Screen: integer (nullable = false)\n",
            " |-- category_Mods (require HL2): integer (nullable = false)\n",
            " |-- category_Steam Cloud: integer (nullable = false)\n",
            " |-- category_Commentary available: integer (nullable = false)\n",
            " |-- tags_array: array (nullable = true)\n",
            " |    |-- element: string (containsNull = false)\n",
            "\n"
          ]
        }
      ]
    },
    {
      "cell_type": "code",
      "source": [
        "assembler1 =VectorAssembler(inputCols=['positive_ratings_int','achievments_int','price_int'], outputCol='all_features2')\n",
        "\n",
        "video_games_data = assembler1.transform(video_games_data)\n",
        "video_games_data.select('all_features2').show(5,truncate=False)"
      ],
      "metadata": {
        "colab": {
          "base_uri": "https://localhost:8080/",
          "height": 0
        },
        "id": "zB9HQlxNGRux",
        "outputId": "dc911cf5-dfa5-40b1-9848-908f174d5d08"
      },
      "execution_count": 34,
      "outputs": [
        {
          "output_type": "stream",
          "name": "stdout",
          "text": [
            "+------------------+\n",
            "|all_features2     |\n",
            "+------------------+\n",
            "|[124534.0,0.0,7.0]|\n",
            "|[3318.0,0.0,3.0]  |\n",
            "|[3416.0,0.0,3.0]  |\n",
            "|[1273.0,0.0,3.0]  |\n",
            "|[5250.0,0.0,3.0]  |\n",
            "+------------------+\n",
            "only showing top 5 rows\n",
            "\n"
          ]
        }
      ]
    },
    {
      "cell_type": "code",
      "source": [
        "scaler = StandardScaler(inputCol='all_features2', outputCol=\"all_features2_scaled\", withStd=True, withMean=False)\n",
        "scalerModel = scaler.fit(video_games_data)\n",
        "final_data = scalerModel.transform(video_games_data)\n",
        "final_data.select('all_features2_scaled').show(5)"
      ],
      "metadata": {
        "colab": {
          "base_uri": "https://localhost:8080/",
          "height": 0
        },
        "id": "D06FAVcWGk37",
        "outputId": "0c89ce1a-263c-417b-c2c1-10d7e4ee5904"
      },
      "execution_count": 35,
      "outputs": [
        {
          "output_type": "stream",
          "name": "stdout",
          "text": [
            "+--------------------+\n",
            "|all_features2_scaled|\n",
            "+--------------------+\n",
            "|[6.55807128906817...|\n",
            "|[0.17472883338789...|\n",
            "|[0.17988960061876...|\n",
            "|[0.06703731311114...|\n",
            "|[0.27646967308211...|\n",
            "+--------------------+\n",
            "only showing top 5 rows\n",
            "\n"
          ]
        }
      ]
    },
    {
      "cell_type": "markdown",
      "source": [
        "### Determining Optimal Number of Clusters (K) using Silhouette Score\n",
        "\n",
        "To find the optimal number of clusters, we employed the Elbow Method with the Silhouette Score as the metric. Here's a summary of the process:\n",
        "\n",
        "1. We experimented with a range of K values (number of clusters).\n",
        "2. For each K, we computed the silhouette score, which measures the quality of the clusters. The silhouette score ranges from -1 to 1, where a higher score indicates better-defined clusters.\n",
        "3. Plotted the results and identified the \"elbow\" point where the silhouette score is maximized.\n",
        "\n",
        "The optimal K, determined by the Elbow Method with the Silhouette Score, is crucial for achieving meaningful and interpretable clusters in our dataset."
      ],
      "metadata": {
        "id": "q2TyUmMvqUFy"
      }
    },
    {
      "cell_type": "code",
      "source": [
        "silhouette_score=[]\n",
        "\n",
        "evaluator = ClusteringEvaluator(predictionCol='prediction', featuresCol='all_features2_scaled', metricName='silhouette', distanceMeasure='squaredEuclidean')\n",
        "\n",
        "for i in range(2,10):\n",
        "    kmeans=KMeans(featuresCol='all_features2_scaled', k=i)\n",
        "    model=kmeans.fit(final_data)\n",
        "    predictions=model.transform(final_data)\n",
        "    score=evaluator.evaluate(predictions)\n",
        "    silhouette_score.append(score)\n",
        "    print('Silhouette Score for k =',i,'is',score)"
      ],
      "metadata": {
        "colab": {
          "base_uri": "https://localhost:8080/",
          "height": 0
        },
        "id": "bpIYSMP3HH8z",
        "outputId": "fccdc860-e425-4ff0-b09e-20ddab2d0513"
      },
      "execution_count": 36,
      "outputs": [
        {
          "output_type": "stream",
          "name": "stdout",
          "text": [
            "Silhouette Score for k = 2 is 0.9997213118815678\n",
            "Silhouette Score for k = 3 is 0.850649746790881\n",
            "Silhouette Score for k = 4 is 0.8984446740847992\n",
            "Silhouette Score for k = 5 is 0.7329814517779383\n",
            "Silhouette Score for k = 6 is 0.83599443704281\n",
            "Silhouette Score for k = 7 is 0.7572076432283475\n",
            "Silhouette Score for k = 8 is 0.7276247676376528\n",
            "Silhouette Score for k = 9 is 0.5659173676685996\n"
          ]
        }
      ]
    },
    {
      "cell_type": "markdown",
      "source": [
        "Plotting"
      ],
      "metadata": {
        "id": "V1VTYWA6qWoU"
      }
    },
    {
      "cell_type": "code",
      "source": [
        "import matplotlib.pyplot as plt\n",
        "\n",
        "plt.plot(range(2,10),silhouette_score)\n",
        "plt.xlabel('k')\n",
        "plt.ylabel('silhouette score')\n",
        "plt.title('Silhouette Score')\n",
        "plt.show()"
      ],
      "metadata": {
        "colab": {
          "base_uri": "https://localhost:8080/",
          "height": 472
        },
        "id": "wBwkhpdlHS3n",
        "outputId": "c28f8beb-fa5a-4853-9994-bf1682ebfe64"
      },
      "execution_count": 37,
      "outputs": [
        {
          "output_type": "display_data",
          "data": {
            "text/plain": [
              "<Figure size 640x480 with 1 Axes>"
            ],
            "image/png": "[encoded data removed]"
          },
          "metadata": {}
        }
      ]
    },
    {
      "cell_type": "code",
      "source": [
        "kmeans=KMeans(featuresCol=\"all_features2\").setK(5).setSeed(123)\n",
        "results=kmeans.fit(final_data).transform(final_data)\n",
        "results.show(15)"
      ],
      "metadata": {
        "colab": {
          "base_uri": "https://localhost:8080/",
          "height": 0
        },
        "id": "pjJXDpLbHWSZ",
        "outputId": "ebfde148-b846-49ce-8e22-422652a95014"
      },
      "execution_count": 38,
      "outputs": [
        {
          "output_type": "stream",
          "name": "stdout",
          "text": [
            "+-----+--------------------+------------+-------+----------------+---------+-----------------+------------+--------------------+------+--------------------+------------+----------------+----------------+----------------+---------------+---------+-----+-------+--------------+------+--------------------+---------------+---------+-----------+----------------+--------------+------------+---------------+---------------------------+------------+----------------+----------------------+----------+----------------------+-------------+------------------+------------+---------------+--------------------+------------+--------------+------------+-----------------+---------+-------------------+---------------+------------------+-----------------------+-----------+--------------+--------------------------+----------------------+---------------------------+--------------------+----------------+------------+-----------------------------+----------------------+---------------------+---------------------------------+---------------------------+------------+-------------+-----------------------------------+-------------------------+---------------------------+---------------------------+--------------------------------+--------------+--------------+----------------------------+---------------------+---------------------------+-----------------------+----------------------------+------------------------------+--------------------+----------------------------+---------------------------------+-----------------------------------+-------------------+----------------------------+---------------------------+--------------------+-----------------------------+--------------------+-------------------+--------------------+----------+\n",
            "|appid|                name|release_date|english|       developer|publisher|        platforms|required_age|          categories|genres|       steamspy_tags|achievements|positive_ratings|negative_ratings|average_playtime|median_playtime|   owners|price|success|average_owners|decade|positive_ratings_int|achievments_int|price_int|english_int|platform_windows|platform_linux|platform_mac|genre_Education|genre_Design & Illustration|genre_Nudity|genre_Accounting|genre_Game Development|genre_Gore|genre_Video Production|genre_Violent|genre_Free to Play|genre_Racing|genre_Adventure|genre_Web Publishing|genre_Casual|genre_Tutorial|genre_Sports|genre_Documentary|genre_RPG|genre_Photo Editing|genre_Utilities|genre_Early Access|genre_Software Training|genre_Indie|genre_Strategy|genre_Animation & Modeling|genre_Audio Production|genre_Massively Multiplayer|genre_Sexual Content|genre_Simulation|genre_Action|category_SteamVR Collectibles|category_Single-player|category_Online Co-op|category_Steam Turn Notifications|category_Steam Leaderboards|category_MMO|category_Mods|category_Partial Controller Support|category_In-App Purchases|category_Local Multi-Player|category_Steam Achievements|category_Full controller support|category_Stats|category_Co-op|category_Online Multi-Player|category_Multi-player|category_Captions available|category_Steam Workshop|category_Steam Trading Cards|category_Includes level editor|category_Local Co-op|category_Includes Source SDK|category_Valve Anti-Cheat enabled|category_Cross-Platform Multiplayer|category_VR Support|category_Shared/Split Screen|category_Mods (require HL2)|category_Steam Cloud|category_Commentary available|          tags_array|      all_features2|all_features2_scaled|prediction|\n",
            "+-----+--------------------+------------+-------+----------------+---------+-----------------+------------+--------------------+------+--------------------+------------+----------------+----------------+----------------+---------------+---------+-----+-------+--------------+------+--------------------+---------------+---------+-----------+----------------+--------------+------------+---------------+---------------------------+------------+----------------+----------------------+----------+----------------------+-------------+------------------+------------+---------------+--------------------+------------+--------------+------------+-----------------+---------+-------------------+---------------+------------------+-----------------------+-----------+--------------+--------------------------+----------------------+---------------------------+--------------------+----------------+------------+-----------------------------+----------------------+---------------------+---------------------------------+---------------------------+------------+-------------+-----------------------------------+-------------------------+---------------------------+---------------------------+--------------------------------+--------------+--------------+----------------------------+---------------------+---------------------------+-----------------------+----------------------------+------------------------------+--------------------+----------------------------+---------------------------------+-----------------------------------+-------------------+----------------------------+---------------------------+--------------------+-----------------------------+--------------------+-------------------+--------------------+----------+\n",
            "|   10|      Counter-Strike|  2000-11-01|      1|           Valve|    Valve|windows;mac;linux|           0|Multi-player;Onli...|Action|Action;FPS;Multip...|           0|          124534|            3339|           17612|            317|    1.5E7| 7.19|    Yes|         1.5E7|  2000|              124534|              0|        7|          1|               1|             1|           1|              0|                          0|           0|               0|                     0|         0|                     0|            0|                 0|           0|              0|                   0|           0|             0|           0|                0|        0|                  0|              0|                 0|                      0|          0|             0|                         0|                     0|                          0|                   0|               0|           1|                            0|                     0|                    0|                                0|                          0|           0|            0|                                  0|                        0|                          1|                          0|                               0|             0|             0|                           1|                    1|                          0|                      0|                           0|                             0|                   0|                           0|                                1|                                  0|                  0|                           0|                          0|                   0|                            0|[Action, FPS, Mul...| [124534.0,0.0,7.0]|[6.55807128906817...|         2|\n",
            "|   20|Team Fortress Cla...|  1999-04-01|      1|           Valve|    Valve|windows;mac;linux|           0|Multi-player;Onli...|Action|Action;FPS;Multip...|           0|            3318|             633|             277|             62|7500000.0| 3.99|    Yes|     7500000.0|  1990|                3318|              0|        3|          1|               1|             1|           1|              0|                          0|           0|               0|                     0|         0|                     0|            0|                 0|           0|              0|                   0|           0|             0|           0|                0|        0|                  0|              0|                 0|                      0|          0|             0|                         0|                     0|                          0|                   0|               0|           1|                            0|                     0|                    0|                                0|                          0|           0|            0|                                  0|                        0|                          1|                          0|                               0|             0|             0|                           1|                    1|                          0|                      0|                           0|                             0|                   0|                           0|                                1|                                  0|                  0|                           0|                          0|                   0|                            0|[Action, FPS, Mul...|   [3318.0,0.0,3.0]|[0.17472883338789...|         0|\n",
            "|   30|       Day of Defeat|  2003-05-01|      1|           Valve|    Valve|windows;mac;linux|           0|Multi-player;Valv...|Action|FPS;World War II;...|           0|            3416|             398|             187|             34|7500000.0| 3.99|    Yes|     7500000.0|  2000|                3416|              0|        3|          1|               1|             1|           1|              0|                          0|           0|               0|                     0|         0|                     0|            0|                 0|           0|              0|                   0|           0|             0|           0|                0|        0|                  0|              0|                 0|                      0|          0|             0|                         0|                     0|                          0|                   0|               0|           1|                            0|                     0|                    0|                                0|                          0|           0|            0|                                  0|                        0|                          0|                          0|                               0|             0|             0|                           0|                    1|                          0|                      0|                           0|                             0|                   0|                           0|                                1|                                  0|                  0|                           0|                          0|                   0|                            0|[FPS, World War I...|   [3416.0,0.0,3.0]|[0.17988960061876...|         0|\n",
            "|   40|  Deathmatch Classic|  2001-06-01|      1|           Valve|    Valve|windows;mac;linux|           0|Multi-player;Onli...|Action|Action;FPS;Multip...|           0|            1273|             267|             258|            184|7500000.0| 3.99|    Yes|     7500000.0|  2000|                1273|              0|        3|          1|               1|             1|           1|              0|                          0|           0|               0|                     0|         0|                     0|            0|                 0|           0|              0|                   0|           0|             0|           0|                0|        0|                  0|              0|                 0|                      0|          0|             0|                         0|                     0|                          0|                   0|               0|           1|                            0|                     0|                    0|                                0|                          0|           0|            0|                                  0|                        0|                          1|                          0|                               0|             0|             0|                           1|                    1|                          0|                      0|                           0|                             0|                   0|                           0|                                1|                                  0|                  0|                           0|                          0|                   0|                            0|[Action, FPS, Mul...|   [1273.0,0.0,3.0]|[0.06703731311114...|         0|\n",
            "|   50|Half-Life: Opposi...|  1999-11-01|      1|Gearbox Software|    Valve|windows;mac;linux|           0|Single-player;Mul...|Action|   FPS;Action;Sci-fi|           0|            5250|             288|             624|            415|7500000.0| 3.99|    Yes|     7500000.0|  1990|                5250|              0|        3|          1|               1|             1|           1|              0|                          0|           0|               0|                     0|         0|                     0|            0|                 0|           0|              0|                   0|           0|             0|           0|                0|        0|                  0|              0|                 0|                      0|          0|             0|                         0|                     0|                          0|                   0|               0|           1|                            0|                     1|                    0|                                0|                          0|           0|            0|                                  0|                        0|                          0|                          0|                               0|             0|             0|                           0|                    1|                          0|                      0|                           0|                             0|                   0|                           0|                                1|                                  0|                  0|                           0|                          0|                   0|                            0|[FPS, Action, Sci...|   [5250.0,0.0,3.0]|[0.27646967308211...|         0|\n",
            "|   60|            Ricochet|  2000-11-01|      1|           Valve|    Valve|windows;mac;linux|           0|Multi-player;Onli...|Action|Action;FPS;Multip...|           0|            2758|             684|             175|             10|7500000.0| 3.99|    Yes|     7500000.0|  2000|                2758|              0|        3|          1|               1|             1|           1|              0|                          0|           0|               0|                     0|         0|                     0|            0|                 0|           0|              0|                   0|           0|             0|           0|                0|        0|                  0|              0|                 0|                      0|          0|             0|                         0|                     0|                          0|                   0|               0|           1|                            0|                     0|                    0|                                0|                          0|           0|            0|                                  0|                        0|                          0|                          0|                               0|             0|             0|                           1|                    1|                          0|                      0|                           0|                             0|                   0|                           0|                                1|                                  0|                  0|                           0|                          0|                   0|                            0|[Action, FPS, Mul...|   [2758.0,0.0,3.0]|[0.14523873492580...|         0|\n",
            "|   70|           Half-Life|  1998-11-08|      1|           Valve|    Valve|windows;mac;linux|           0|Single-player;Mul...|Action|  FPS;Classic;Action|           0|           27755|            1100|            1300|             83|7500000.0| 7.19|    Yes|     7500000.0|  1990|               27755|              0|        7|          1|               1|             1|           1|              0|                          0|           0|               0|                     0|         0|                     0|            0|                 0|           0|              0|                   0|           0|             0|           0|                0|        0|                  0|              0|                 0|                      0|          0|             0|                         0|                     0|                          0|                   0|               0|           1|                            0|                     1|                    0|                                0|                          0|           0|            0|                                  0|                        0|                          0|                          0|                               0|             0|             0|                           1|                    1|                          0|                      0|                           0|                             0|                   0|                           0|                                1|                                  0|                  0|                           0|                          0|                   1|                            0|[FPS, Classic, Ac...|  [27755.0,0.0,7.0]|[1.46160300502743...|         0|\n",
            "|   80|Counter-Strike: C...|  2004-03-01|      1|           Valve|    Valve|windows;mac;linux|           0|Single-player;Mul...|Action|Action;FPS;Multip...|           0|           12120|            1439|             427|             43|    1.5E7| 7.19|    Yes|         1.5E7|  2000|               12120|              0|        7|          1|               1|             1|           1|              0|                          0|           0|               0|                     0|         0|                     0|            0|                 0|           0|              0|                   0|           0|             0|           0|                0|        0|                  0|              0|                 0|                      0|          0|             0|                         0|                     0|                          0|                   0|               0|           1|                            0|                     1|                    0|                                0|                          0|           0|            0|                                  0|                        0|                          0|                          0|                               0|             0|             0|                           0|                    1|                          0|                      0|                           0|                             0|                   0|                           0|                                1|                                  0|                  0|                           0|                          0|                   0|                            0|[Action, FPS, Mul...|  [12120.0,0.0,7.0]|[0.63824998814385...|         0|\n",
            "|  130|Half-Life: Blue S...|  2001-06-01|      1|Gearbox Software|    Valve|windows;mac;linux|           0|       Single-player|Action|   FPS;Action;Sci-fi|           0|            3822|             420|             361|            205|7500000.0| 3.99|    Yes|     7500000.0|  2000|                3822|              0|        3|          1|               1|             1|           1|              0|                          0|           0|               0|                     0|         0|                     0|            0|                 0|           0|              0|                   0|           0|             0|           0|                0|        0|                  0|              0|                 0|                      0|          0|             0|                         0|                     0|                          0|                   0|               0|           1|                            0|                     1|                    0|                                0|                          0|           0|            0|                                  0|                        0|                          0|                          0|                               0|             0|             0|                           0|                    0|                          0|                      0|                           0|                             0|                   0|                           0|                                0|                                  0|                  0|                           0|                          0|                   0|                            0|[FPS, Action, Sci...|   [3822.0,0.0,3.0]|[0.20126992200377...|         0|\n",
            "|  220|         Half-Life 2|  2004-11-16|      1|           Valve|    Valve|windows;mac;linux|           0|Single-player;Ste...|Action|   FPS;Action;Sci-fi|          33|           67902|            2419|             691|            402|    1.5E7| 7.19|    Yes|         1.5E7|  2000|               67902|             33|        7|          1|               1|             1|           1|              0|                          0|           0|               0|                     0|         0|                     0|            0|                 0|           0|              0|                   0|           0|             0|           0|                0|        0|                  0|              0|                 0|                      0|          0|             0|                         0|                     0|                          0|                   0|               0|           1|                            0|                     1|                    0|                                0|                          0|           0|            0|                                  1|                        0|                          0|                          1|                               0|             0|             0|                           0|                    0|                          1|                      0|                           1|                             0|                   0|                           1|                                0|                                  0|                  0|                           0|                          0|                   1|                            0|[FPS, Action, Sci...| [67902.0,33.0,7.0]|[3.57577976030888...|         2|\n",
            "|  240|Counter-Strike: S...|  2004-11-01|      1|           Valve|    Valve|windows;mac;linux|           0|Multi-player;Cros...|Action|Action;FPS;Multip...|         147|           76640|            3497|            6842|            400|    1.5E7| 7.19|    Yes|         1.5E7|  2000|               76640|            147|        7|          1|               1|             1|           1|              0|                          0|           0|               0|                     0|         0|                     0|            0|                 0|           0|              0|                   0|           0|             0|           0|                0|        0|                  0|              0|                 0|                      0|          0|             0|                         0|                     0|                          0|                   0|               0|           1|                            0|                     0|                    0|                                0|                          0|           0|            0|                                  0|                        0|                          0|                          1|                               0|             1|             0|                           0|                    1|                          0|                      0|                           0|                             0|                   0|                           1|                                1|                                  1|                  0|                           0|                          0|                   1|                            0|[Action, FPS, Mul...|[76640.0,147.0,7.0]|[4.03593061809774...|         2|\n",
            "|  280|   Half-Life: Source|  2004-06-01|      1|           Valve|    Valve|windows;mac;linux|           0|       Single-player|Action|   FPS;Action;Sci-fi|           0|            3767|            1053|             190|            214|3500000.0|    0|    Yes|     3500000.0|  2000|                3767|              0|        0|          1|               1|             1|           1|              0|                          0|           0|               0|                     0|         0|                     0|            0|                 0|           0|              0|                   0|           0|             0|           0|                0|        0|                  0|              0|                 0|                      0|          0|             0|                         0|                     0|                          0|                   0|               0|           1|                            0|                     1|                    0|                                0|                          0|           0|            0|                                  0|                        0|                          0|                          0|                               0|             0|             0|                           0|                    0|                          0|                      0|                           0|                             0|                   0|                           0|                                0|                                  0|                  0|                           0|                          0|                   0|                            0|[FPS, Action, Sci...|   [3767.0,0.0,0.0]|[0.19837357304768...|         0|\n",
            "|  300|Day of Defeat: So...|  2010-07-12|      1|           Valve|    Valve|windows;mac;linux|           0|Multi-player;Cros...|Action|FPS;World War II;...|          54|           10489|            1210|            1356|            134|7500000.0| 7.19|    Yes|     7500000.0|  2010|               10489|             54|        7|          1|               1|             1|           1|              0|                          0|           0|               0|                     0|         0|                     0|            0|                 0|           0|              0|                   0|           0|             0|           0|                0|        0|                  0|              0|                 0|                      0|          0|             0|                         0|                     0|                          0|                   0|               0|           1|                            0|                     0|                    0|                                0|                          0|           0|            0|                                  0|                        0|                          0|                          1|                               0|             1|             0|                           0|                    1|                          0|                      0|                           1|                             0|                   0|                           1|                                1|                                  1|                  0|                           0|                          0|                   0|                            0|[FPS, World War I...| [10489.0,54.0,7.0]|[0.55236007637300...|         0|\n",
            "|  320|Half-Life 2: Deat...|  2004-11-01|      1|           Valve|    Valve|windows;mac;linux|           0|Multi-player;Valv...|Action|Action;FPS;Multip...|           0|            6020|             787|             311|             32|    1.5E7| 3.99|    Yes|         1.5E7|  2000|                6020|              0|        3|          1|               1|             1|           1|              0|                          0|           0|               0|                     0|         0|                     0|            0|                 0|           0|              0|                   0|           0|             0|           0|                0|        0|                  0|              0|                 0|                      0|          0|             0|                         0|                     0|                          0|                   0|               0|           1|                            0|                     0|                    0|                                0|                          0|           0|            0|                                  0|                        0|                          0|                          0|                               0|             0|             0|                           0|                    1|                          0|                      0|                           0|                             0|                   0|                           1|                                1|                                  0|                  0|                           0|                          0|                   0|                            0|[Action, FPS, Mul...|   [6020.0,0.0,3.0]|[0.31701855846749...|         0|\n",
            "|  340|Half-Life 2: Lost...|  2005-10-27|      1|           Valve|    Valve|windows;mac;linux|           0|Single-player;Com...|Action|FPS;Action;Single...|           0|            5783|            1020|              46|             29|    1.5E7|    0|    Yes|         1.5E7|  2000|                5783|              0|        0|          1|               1|             1|           1|              0|                          0|           0|               0|                     0|         0|                     0|            0|                 0|           0|              0|                   0|           0|             0|           0|                0|        0|                  0|              0|                 0|                      0|          0|             0|                         0|                     0|                          0|                   0|               0|           1|                            0|                     1|                    0|                                0|                          0|           0|            0|                                  0|                        0|                          0|                          0|                               0|             0|             0|                           0|                    0|                          0|                      0|                           0|                             0|                   0|                           0|                                0|                                  0|                  0|                           0|                          0|                   0|                            1|[FPS, Action, Sin...|   [5783.0,0.0,0.0]|[0.30453792751121...|         0|\n",
            "+-----+--------------------+------------+-------+----------------+---------+-----------------+------------+--------------------+------+--------------------+------------+----------------+----------------+----------------+---------------+---------+-----+-------+--------------+------+--------------------+---------------+---------+-----------+----------------+--------------+------------+---------------+---------------------------+------------+----------------+----------------------+----------+----------------------+-------------+------------------+------------+---------------+--------------------+------------+--------------+------------+-----------------+---------+-------------------+---------------+------------------+-----------------------+-----------+--------------+--------------------------+----------------------+---------------------------+--------------------+----------------+------------+-----------------------------+----------------------+---------------------+---------------------------------+---------------------------+------------+-------------+-----------------------------------+-------------------------+---------------------------+---------------------------+--------------------------------+--------------+--------------+----------------------------+---------------------+---------------------------+-----------------------+----------------------------+------------------------------+--------------------+----------------------------+---------------------------------+-----------------------------------+-------------------+----------------------------+---------------------------+--------------------+-----------------------------+--------------------+-------------------+--------------------+----------+\n",
            "only showing top 15 rows\n",
            "\n"
          ]
        }
      ]
    },
    {
      "cell_type": "code",
      "source": [
        "centers = model.clusterCenters()\n",
        "print(\"Cluster Centers: \")\n",
        "for center in centers:\n",
        "    print(center)"
      ],
      "metadata": {
        "colab": {
          "base_uri": "https://localhost:8080/",
          "height": 0
        },
        "id": "s3SsqktrHomZ",
        "outputId": "64358d4d-56d4-4176-ad76-bb6eea659617"
      },
      "execution_count": 39,
      "outputs": [
        {
          "output_type": "stream",
          "name": "stdout",
          "text": [
            "Cluster Centers: \n",
            "[0.01772468 0.05948394 0.16207438]\n",
            "[16.74059959  0.43331672  1.35731191]\n",
            "[5.26608901e-05 0.00000000e+00 4.64049862e+01]\n",
            "[5.32822128e-03 1.34428426e+01 4.55583751e-01]\n",
            "[9.52683376e-04 6.44410414e-03 1.85759789e+01]\n",
            "[0.24245576 0.10378655 3.84728212]\n",
            "[139.25666845   0.47351277   0.        ]\n",
            "[0.08979812 0.06766872 1.64912326]\n",
            "[0.02196106 0.04987782 0.75625302]\n"
          ]
        }
      ]
    },
    {
      "cell_type": "markdown",
      "source": [
        "**Determining Cluster Centers**\n",
        "\n",
        "Cluster centers, in the context of cluster analysis, refer to the central points within each cluster that represent the average or typical values of the features considered in the analysis. In video game clustering using features like Positive Rankings, Achievements, and Price, cluster centers can provide valuable insights into the characteristics of different groups of games."
      ],
      "metadata": {
        "id": "MfBJGUJEq7Cv"
      }
    },
    {
      "cell_type": "markdown",
      "source": [
        "## Clustering Analysis Results (k=4)\n",
        "\n",
        "### Cluster 1: \"Highly Rated, High Achievements, Premium Price\"\n",
        "Games in this cluster have received consistently high positive ratings, boast a significant number of achievements, and are priced at a premium level. These games may appeal to dedicated gamers who seek immersive experiences and are willing to invest in high-quality content.\n",
        "\n",
        "### Cluster 2: \"Moderate Ratings, Achievements, and Mid-range Price\"\n",
        "This cluster consists of games with moderate positive ratings, achievements, and fall within the mid-range price category. They offer a balanced gaming experience suitable for a broad audience, providing a mix of entertainment without being overly expensive.\n",
        "\n",
        "### Cluster 3: \"Positive Ratings, Few Achievements, Affordable\"\n",
        "Games in this cluster have positive ratings but fewer achievements compared to other clusters. They are priced affordably, making them attractive to budget-conscious gamers who still seek enjoyable gameplay experiences.\n",
        "\n",
        "### Cluster 4: \"Varied Ratings, High Achievements, Diverse Price Range\"\n",
        "This cluster includes games with varied positive ratings but a high number of achievements. The price range is diverse, indicating a mix of both premium and budget-friendly options. This cluster may appeal to gamers looking for diverse options based on achievements rather than relying solely on ratings."
      ],
      "metadata": {
        "id": "V-gg2PA8qhQU"
      }
    },
    {
      "cell_type": "code",
      "source": [
        "cluster1=results.filter(results['prediction']==0)\n",
        "cluster1.select('name').show(truncate=False)\n",
        "cluster1.count()"
      ],
      "metadata": {
        "colab": {
          "base_uri": "https://localhost:8080/",
          "height": 0
        },
        "id": "ZJsqN0HjHW_2",
        "outputId": "4c78c40a-4027-457e-ebd6-60da7be7e13a"
      },
      "execution_count": 40,
      "outputs": [
        {
          "output_type": "stream",
          "name": "stdout",
          "text": [
            "+------------------------------+\n",
            "|name                          |\n",
            "+------------------------------+\n",
            "|Team Fortress Classic         |\n",
            "|Day of Defeat                 |\n",
            "|Deathmatch Classic            |\n",
            "|Half-Life: Opposing Force     |\n",
            "|Ricochet                      |\n",
            "|Half-Life                     |\n",
            "|Counter-Strike: Condition Zero|\n",
            "|Half-Life: Blue Shift         |\n",
            "|Half-Life: Source             |\n",
            "|Day of Defeat: Source         |\n",
            "|Half-Life 2: Deathmatch       |\n",
            "|Half-Life 2: Lost Coast       |\n",
            "|Half-Life Deathmatch: Source  |\n",
            "|Half-Life 2: Episode One      |\n",
            "|Half-Life 2: Episode Two      |\n",
            "|Left 4 Dead                   |\n",
            "|Alien Swarm                   |\n",
            "|Rag Doll Kung Fu              |\n",
            "|Red Orchestra: Ostfront 41-45 |\n",
            "|SiN Episodes: Emergence       |\n",
            "+------------------------------+\n",
            "only showing top 20 rows\n",
            "\n"
          ]
        },
        {
          "output_type": "execute_result",
          "data": {
            "text/plain": [
              "26937"
            ]
          },
          "metadata": {},
          "execution_count": 40
        }
      ]
    },
    {
      "cell_type": "code",
      "source": [
        "cluster2=results.filter(results['prediction']==1)\n",
        "cluster2.select('name').show(truncate=False)\n",
        "cluster2.count()"
      ],
      "metadata": {
        "colab": {
          "base_uri": "https://localhost:8080/",
          "height": 0
        },
        "id": "9DkNzC6EHazK",
        "outputId": "db7ab8ca-9bfe-477a-cad1-fc21bfbeafaa"
      },
      "execution_count": 41,
      "outputs": [
        {
          "output_type": "stream",
          "name": "stdout",
          "text": [
            "+--------------------------------+\n",
            "|name                            |\n",
            "+--------------------------------+\n",
            "|Counter-Strike: Global Offensive|\n",
            "+--------------------------------+\n",
            "\n"
          ]
        },
        {
          "output_type": "execute_result",
          "data": {
            "text/plain": [
              "1"
            ]
          },
          "metadata": {},
          "execution_count": 41
        }
      ]
    },
    {
      "cell_type": "code",
      "source": [
        "cluster3=results.filter(results['prediction']==2)\n",
        "cluster3.select('name').show()\n",
        "cluster3.count()"
      ],
      "metadata": {
        "colab": {
          "base_uri": "https://localhost:8080/",
          "height": 0
        },
        "id": "sgcR0rjPHeMg",
        "outputId": "f1867eb3-d448-477f-fdcc-05e7e39fafeb"
      },
      "execution_count": 42,
      "outputs": [
        {
          "output_type": "stream",
          "name": "stdout",
          "text": [
            "+--------------------+\n",
            "|                name|\n",
            "+--------------------+\n",
            "|      Counter-Strike|\n",
            "|         Half-Life 2|\n",
            "|Counter-Strike: S...|\n",
            "|              Portal|\n",
            "|            Portal 2|\n",
            "|       Killing Floor|\n",
            "|        Just Cause 2|\n",
            "|   BioShock Infinite|\n",
            "|Sid Meier's Civil...|\n",
            "|Call of Duty®: Mo...|\n",
            "| Grand Theft Auto IV|\n",
            "|The Witcher 2: As...|\n",
            "|  Fallout: New Vegas|\n",
            "|   PAYDAY™ The Heist|\n",
            "|               LIMBO|\n",
            "|Mount & Blade: Wa...|\n",
            "|       Borderlands 2|\n",
            "|            Mafia II|\n",
            "|  Spec Ops: The Line|\n",
            "|Saints Row: The T...|\n",
            "+--------------------+\n",
            "only showing top 20 rows\n",
            "\n"
          ]
        },
        {
          "output_type": "execute_result",
          "data": {
            "text/plain": [
              "118"
            ]
          },
          "metadata": {},
          "execution_count": 42
        }
      ]
    },
    {
      "cell_type": "code",
      "source": [
        "cluster4=results.filter(results['prediction']==3)\n",
        "cluster4.select('name').show()\n",
        "cluster4.count()"
      ],
      "metadata": {
        "colab": {
          "base_uri": "https://localhost:8080/",
          "height": 0
        },
        "id": "Kh8wbjC9HiFv",
        "outputId": "9da82095-1403-461f-a310-1aa762f2cc1e"
      },
      "execution_count": 43,
      "outputs": [
        {
          "output_type": "stream",
          "name": "stdout",
          "text": [
            "+--------------------+\n",
            "|                name|\n",
            "+--------------------+\n",
            "|     Team Fortress 2|\n",
            "|              Dota 2|\n",
            "|PLAYERUNKNOWN'S B...|\n",
            "+--------------------+\n",
            "\n"
          ]
        },
        {
          "output_type": "execute_result",
          "data": {
            "text/plain": [
              "3"
            ]
          },
          "metadata": {},
          "execution_count": 43
        }
      ]
    },
    {
      "cell_type": "code",
      "source": [
        "session.stop()"
      ],
      "metadata": {
        "id": "4mX-qLld8Uvl"
      },
      "execution_count": 44,
      "outputs": []
    }
  ]
}
